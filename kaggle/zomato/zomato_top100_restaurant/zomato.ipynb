{
 "cells": [
  {
   "cell_type": "code",
   "execution_count": 1,
   "metadata": {},
   "outputs": [
    {
     "data": {
      "text/html": [
       "<div>\n",
       "<style scoped>\n",
       "    .dataframe tbody tr th:only-of-type {\n",
       "        vertical-align: middle;\n",
       "    }\n",
       "\n",
       "    .dataframe tbody tr th {\n",
       "        vertical-align: top;\n",
       "    }\n",
       "\n",
       "    .dataframe thead th {\n",
       "        text-align: right;\n",
       "    }\n",
       "</style>\n",
       "<table border=\"1\" class=\"dataframe\">\n",
       "  <thead>\n",
       "    <tr style=\"text-align: right;\">\n",
       "      <th></th>\n",
       "      <th>Restaurant Name</th>\n",
       "      <th>Rating</th>\n",
       "      <th>Cuisine</th>\n",
       "      <th>Average Price</th>\n",
       "      <th>Average Delivery Time</th>\n",
       "      <th>Safety Measure</th>\n",
       "      <th>Location</th>\n",
       "    </tr>\n",
       "  </thead>\n",
       "  <tbody>\n",
       "    <tr>\n",
       "      <th>0</th>\n",
       "      <td>Campus Bakers</td>\n",
       "      <td>4.3</td>\n",
       "      <td>Bakery, Fast Food, Pizza, Sandwich, Burger</td>\n",
       "      <td>₹50 for one</td>\n",
       "      <td>36 min</td>\n",
       "      <td>Restaurant partner follows WHO protocol</td>\n",
       "      <td>Agra</td>\n",
       "    </tr>\n",
       "    <tr>\n",
       "      <th>1</th>\n",
       "      <td>Mama Chicken Mama Franky House</td>\n",
       "      <td>4</td>\n",
       "      <td>North Indian, Mughlai, Rolls, Burger, Momos</td>\n",
       "      <td>₹50 for one</td>\n",
       "      <td>22 min</td>\n",
       "      <td>Follows all Max Safety measures to ensure your...</td>\n",
       "      <td>Agra</td>\n",
       "    </tr>\n",
       "  </tbody>\n",
       "</table>\n",
       "</div>"
      ],
      "text/plain": [
       "                  Restaurant Name Rating   \n",
       "0                   Campus Bakers    4.3  \\\n",
       "1  Mama Chicken Mama Franky House      4   \n",
       "\n",
       "                                       Cuisine Average Price   \n",
       "0   Bakery, Fast Food, Pizza, Sandwich, Burger   ₹50 for one  \\\n",
       "1  North Indian, Mughlai, Rolls, Burger, Momos   ₹50 for one   \n",
       "\n",
       "  Average Delivery Time                                     Safety Measure   \n",
       "0                36 min            Restaurant partner follows WHO protocol  \\\n",
       "1                22 min  Follows all Max Safety measures to ensure your...   \n",
       "\n",
       "  Location  \n",
       "0     Agra  \n",
       "1     Agra  "
      ]
     },
     "execution_count": 1,
     "metadata": {},
     "output_type": "execute_result"
    }
   ],
   "source": [
    "import numpy as np\n",
    "import pandas as pd\n",
    "# from projToolBox import *\n",
    "\n",
    "df=pd.read_csv(\"dataset/zomato_dataset.csv\")\n",
    "df.head(2)"
   ]
  },
  {
   "cell_type": "markdown",
   "metadata": {},
   "source": [
    "# Data Cleaning"
   ]
  },
  {
   "cell_type": "code",
   "execution_count": 2,
   "metadata": {},
   "outputs": [
    {
     "name": "stdout",
     "output_type": "stream",
     "text": [
      "spaces in columns names were stripped\n",
      "df.columns= Index(['RestaurantName', 'Rating', 'Cuisine', 'AveragePrice',\n",
      "       'AverageDeliveryTime', 'SafetyMeasure', 'Location'],\n",
      "      dtype='object')\n"
     ]
    },
    {
     "name": "stderr",
     "output_type": "stream",
     "text": [
      "C:\\Users\\Fynn\\AppData\\Local\\Packages\\PythonSoftwareFoundation.Python.3.11_qbz5n2kfra8p0\\LocalCache\\local-packages\\Python311\\site-packages\\tqdm\\auto.py:21: TqdmWarning: IProgress not found. Please update jupyter and ipywidgets. See https://ipywidgets.readthedocs.io/en/stable/user_install.html\n",
      "  from .autonotebook import tqdm as notebook_tqdm\n"
     ]
    }
   ],
   "source": [
    "# # Handling NaN values\n",
    "# from sklearn.impute import SimpleInputer\n",
    "# si=SimpleInputer()\n",
    "\n",
    "# cancel all space from column names, in order to access them easier with . operator\n",
    "def cancelSpace():\n",
    "    df.columns = [e.replace(' ','') for e in df.columns]\n",
    "    print('spaces in columns names were stripped')\n",
    "    print('df.columns=',df.columns)\n",
    "    return df.columns\n",
    "\n",
    "cancelSpace()\n",
    "\n",
    "# setting df.Rating, df.AveragePrice into numerical values\n",
    "df.Rating=pd.to_numeric(df.Rating,errors='coerce')\n",
    "df.dropna(subset='Rating',inplace=True)\n",
    "df.sort_values('Rating',ascending=False,inplace=True)\n",
    "\n",
    "from projToolBox import separator\n",
    "try:\n",
    "    df.reset_index(inplace=True)\n",
    "except ValueError:\n",
    "    separator()\n",
    "    print('Just click RUN ALL BLOCKS inside Jupyter Notebook would be fine. Otherwise it will generate level_0 column for resetted index col')\n",
    "    separator()\n"
   ]
  },
  {
   "cell_type": "markdown",
   "metadata": {},
   "source": [
    "## Feature Engineering"
   ]
  },
  {
   "cell_type": "code",
   "execution_count": 3,
   "metadata": {},
   "outputs": [
    {
     "data": {
      "text/plain": [
       "<Axes: title={'center': 'Distribution of Rating'}, ylabel='Frequency'>"
      ]
     },
     "execution_count": 3,
     "metadata": {},
     "output_type": "execute_result"
    },
    {
     "data": {
      "image/png": "[encoded data removed]",
      "text/plain": [
       "<Figure size 640x480 with 1 Axes>"
      ]
     },
     "metadata": {},
     "output_type": "display_data"
    }
   ],
   "source": [
    "df.Rating.plot(kind='hist',title=\"Distribution of Rating\") # automatically set count to ylabel. Nice!"
   ]
  },
  {
   "cell_type": "markdown",
   "metadata": {},
   "source": []
  },
  {
   "cell_type": "code",
   "execution_count": 4,
   "metadata": {},
   "outputs": [],
   "source": [
    "from sklearn.model_selection import train_test_split\n"
   ]
  },
  {
   "cell_type": "code",
   "execution_count": null,
   "metadata": {},
   "outputs": [],
   "source": []
  }
 ],
 "metadata": {
  "kernelspec": {
   "display_name": "Python 3",
   "language": "python",
   "name": "python3"
  },
  "language_info": {
   "codemirror_mode": {
    "name": "ipython",
    "version": 3
   },
   "file_extension": ".py",
   "mimetype": "text/x-python",
   "name": "python",
   "nbconvert_exporter": "python",
   "pygments_lexer": "ipython3",
   "version": "3.11.6"
  }
 },
 "nbformat": 4,
 "nbformat_minor": 2
}
