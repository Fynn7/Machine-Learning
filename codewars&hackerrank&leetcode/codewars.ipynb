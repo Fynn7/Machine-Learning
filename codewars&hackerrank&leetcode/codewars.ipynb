{
 "cells": [
  {
   "cell_type": "code",
   "execution_count": 1,
   "metadata": {},
   "outputs": [],
   "source": [
    "def cakeBakingChecker(recipe, available):\n",
    "    '''\n",
    "    Pete likes to bake some cakes. He has some recipes and ingredients. Unfortunately he is not good in maths. Can you help him to find out, how many cakes he could bake considering his recipes?\n",
    "\n",
    "    Write a function cakes(), which takes the recipe (object) and the available ingredients (also an object) and returns the maximum number of cakes Pete can bake (integer). For simplicity there are no units for the amounts (e.g. 1 lb of flour or 200 g of sugar are simply 1 or 200). Ingredients that are not present in the objects, can be considered as 0.\n",
    "\n",
    "    Examples:\n",
    "    # must return 2\n",
    "    cakes({flour: 500, sugar: 200, eggs: 1}, {flour: 1200, sugar: 1200, eggs: 5, milk: 200})\n",
    "    # must return 0\n",
    "    cakes({apples: 3, flour: 300, sugar: 150, milk: 100, oil: 100}, {sugar: 500, flour: 2000, milk: 2000})\n",
    "    '''\n",
    "\n",
    "    try:\n",
    "        return min([available[ing]//recipe[ing] for ing in recipe.keys()])\n",
    "    except KeyError:\n",
    "        return 0\n",
    "\n",
    "\n",
    "assert cakeBakingChecker({'flour': 500, 'sugar': 200, 'eggs': 1}, {'flour': 1200, 'sugar': 1200, 'eggs': 5, 'milk': 200})==2\n",
    "assert cakeBakingChecker({'apples': 3,'flour': 300, 'sugar': 150, 'milk': 100,'oil': 100}, {'flour': 2000, 'sugar': 500, 'milk': 2000})==0\n",
    "\n",
    "# cakes({'flour': 500, 'sugar': 200, 'eggs': 1}, {'flour': 1200, 'sugar': 1200, 'eggs': 5, 'milk': 200})"
   ]
  },
  {
   "cell_type": "code",
   "execution_count": 2,
   "metadata": {},
   "outputs": [],
   "source": [
    "def hashTagGenerator(tag: str) -> None:\n",
    "    '''\n",
    "    The marketing team is spending way too much time typing in hashtags.\n",
    "    Let's help them with our own Hashtag Generator!\n",
    "\n",
    "    Here's the deal:\n",
    "\n",
    "    It must start with a hashtag (#).\n",
    "    All words must have their first letter capitalized.\n",
    "    If the final result is longer than 140 chars it must return false.\n",
    "    If the input or the result is an empty string it must return false.\n",
    "\n",
    "    \" Hello there thanks for trying my Kata\"  =>  \"#HelloThereThanksForTryingMyKata\"\n",
    "    \"    Hello     World   \"                  =>  \"#HelloWorld\"\n",
    "    \"\"                                        =>  false\n",
    "    '''\n",
    "    return False\n",
    "\n",
    "def generate_hashtag(s):\n",
    "    output = \"#\"\n",
    "    \n",
    "    for word in s.split():\n",
    "        output += word.capitalize()\n",
    "    \n",
    "    return False if (len(s) == 0 or len(output) > 140) else output # What I've learned\n",
    "\n"
   ]
  },
  {
   "cell_type": "code",
   "execution_count": 3,
   "metadata": {},
   "outputs": [
    {
     "name": "stdout",
     "output_type": "stream",
     "text": [
      "16\n"
     ]
    }
   ],
   "source": [
    "def fizzBuzz(n):\n",
    "    # Write your code here\n",
    "    if n%3 == 0 and n%5!=0:\n",
    "        print('Fizz')\n",
    "    elif n%3 != 0 and n%5==0:\n",
    "        print('Buzz')\n",
    "    elif n%3 == 0 and n%5==0:\n",
    "        print('FizzBuzz')\n",
    "    else:\n",
    "        print(n)\n",
    "\n",
    "fizzBuzz(16)"
   ]
  },
  {
   "cell_type": "code",
   "execution_count": 4,
   "metadata": {},
   "outputs": [
    {
     "data": {
      "text/plain": [
       "250"
      ]
     },
     "execution_count": 4,
     "metadata": {},
     "output_type": "execute_result"
    }
   ],
   "source": [
    "def score(dice:list):\n",
    "    # dice=[5,1,3,4,1]\n",
    "    p=0\n",
    "    d={i:dice.count(i) for i in range(1,7)}\n",
    "    for i,c in d.items():\n",
    "        if c>=3:\n",
    "            if i==1:\n",
    "                p+=1000\n",
    "            else:\n",
    "                p+=i*100\n",
    "            dice.remove(i)\n",
    "            dice.remove(i)\n",
    "            dice.remove(i)\n",
    "    for i in dice:\n",
    "        if i==1:\n",
    "            p+=100\n",
    "        elif i==5:\n",
    "            p+=50\n",
    "        else:\n",
    "            pass\n",
    "    return p\n",
    "\n",
    "\n",
    "score([5,1,3,4,1])"
   ]
  },
  {
   "cell_type": "code",
   "execution_count": 5,
   "metadata": {},
   "outputs": [
    {
     "data": {
      "text/plain": [
       "[2, 3]"
      ]
     },
     "execution_count": 5,
     "metadata": {},
     "output_type": "execute_result"
    }
   ],
   "source": [
    "def isPP(n):\n",
    "    power=2\n",
    "    base=2\n",
    "    while base**power<=n: # 4<9\n",
    "        while base**power<=n: # 4<9\n",
    "            if base**power==n: # 4!=9\n",
    "                return [base,power] \n",
    "            base+=1 # 2+=1=>3\n",
    "        power+=1\n",
    "        base=2\n",
    "    return None\n",
    "\n",
    "isPP(8)"
   ]
  },
  {
   "cell_type": "code",
   "execution_count": 6,
   "metadata": {},
   "outputs": [],
   "source": [
    "# def joseph_survivor(n,k):\n",
    "#     '''\n",
    "#     n=7, k=3 => means 7 people in a circle\n",
    "# one every 3 is eliminated until one remains\n",
    "# [1,2,3,4,5,6,7] - initial sequence\n",
    "# [1,2,4,5,6,7] => 3 is counted out\n",
    "# [1,2,4,5,7] => 6 is counted out\n",
    "# [1,4,5,7] => 2 is counted out\n",
    "# [1,4,5] => 7 is counted out\n",
    "# [1,4] => 5 is counted out\n",
    "# [4] => 1 counted out, 4 is the last element - the survivor!\n",
    "# '''\n",
    "#     r=list(range(1,n+1))\n",
    "#     c=1\n",
    "#     lost=0\n",
    "#     start_index=0\n",
    "#     while len(r)>1:\n",
    "#         if start_index+3>len(r)-1: # circle around]\n",
    "#             start_index=start_index+3-len(r)-1\n",
    "#         for i in range(start_index,len(r)):\n",
    "#             if c==k: # k=3 => c==3\n",
    "#                 lost=r[i]\n",
    "#                 print('lost is ',lost)\n",
    "#                 c=1\n",
    "#                 start_index=i\n",
    "#                 break\n",
    "#             c+=1\n",
    "#         r.remove(lost)\n",
    "#     return r\n",
    "# joseph_survivor(7,3)\n",
    "def josephus_survivor(n, k):\n",
    "    soldiers = [int(i) for i in range(1, n + 1)]\n",
    "    counter = -1\n",
    "    while len(soldiers) != 1:\n",
    "        counter += k\n",
    "        while counter >= len(soldiers):\n",
    "            counter = abs(len(soldiers) - counter)\n",
    "        soldiers.remove(soldiers[counter])\n",
    "        counter -= 1\n",
    "    return soldiers[0]\n",
    "\n",
    "\n",
    "def josephus_survivor(n, k):\n",
    "    lst = [i for i in range(1, n+1)]\n",
    "    x = k-1 # x=2\n",
    "    while len(lst) != 1: # n=7 k=3\n",
    "        x = x % len(lst) # \n",
    "        lst.pop(x)\n",
    "        x += k-1\n",
    "    return lst[0]\n",
    "\n",
    "\n",
    "def josephus_survivor(n, k):\n",
    "    v = 0\n",
    "    for i in range(1, n + 1):\n",
    "        v = (v + k) % i\n",
    "    return v + 1"
   ]
  },
  {
   "cell_type": "code",
   "execution_count": 7,
   "metadata": {},
   "outputs": [
    {
     "data": {
      "text/plain": [
       "55"
      ]
     },
     "execution_count": 7,
     "metadata": {},
     "output_type": "execute_result"
    }
   ],
   "source": [
    "def fib(n):\n",
    "    '''\n",
    "    fib(7)\n",
    "    fib(5)+fib(6)\n",
    "    fib(3)+fib(4) + fib(4)+fib(5)\n",
    "    \n",
    "    '''\n",
    "    if n <= 1:\n",
    "        return n\n",
    "    else:\n",
    "        return(fib(n-1) + fib(n-2)) # 前两项之和\n",
    "   \n",
    "# def fib2(n):\n",
    "#     if n<3:\n",
    "#         return n\n",
    "#     s=0\n",
    "#     prev=0\n",
    "#     for i in range(1,n+1):\n",
    "#         s+=prev\n",
    "#         prev=a\n",
    "\n",
    "fib(10)"
   ]
  },
  {
   "cell_type": "markdown",
   "metadata": {},
   "source": [
    "Write a function that takes a positive integer and returns the next smaller positive integer containing the same digits.\n",
    "\n",
    "For example:\n",
    "\n",
    "next_smaller(21) == 12\n",
    "next_smaller(531) == 513\n",
    "next_smaller(2071) == 2017\n",
    "Return -1 (for Haskell: return Nothing, for Rust: return None), when there is no smaller number that contains the same digits. Also return -1 when the next smaller number with the same digits would require the leading digit to be zero.\n",
    "\n",
    "next_smaller(9) == -1\n",
    "next_smaller(135) == -1\n",
    "next_smaller(1027) == -1  # 0721 is out since we don't write numbers with leading zeros\n",
    "some tests will include very large numbers.\n",
    "test data only employs positive integers.\n",
    "The function you write for this challenge is the inverse of this kata: \"Next bigger number with the same digits.\""
   ]
  },
  {
   "cell_type": "code",
   "execution_count": 8,
   "metadata": {},
   "outputs": [
    {
     "name": "stdout",
     "output_type": "stream",
     "text": [
      "['2', '1']\n",
      "['5', '3', '1']\n",
      "['2', '0', '7', '1']\n",
      "-1\n",
      "['1', '3', '5']\n",
      "['1', '0', '2', '7']\n",
      "['4', '1', '4']\n"
     ]
    }
   ],
   "source": [
    "import numpy as np\n",
    "from itertools import permutations\n",
    "def next_smaller_REACHEDMAXBUFFER(n):\n",
    "    digits=list(str(n))\n",
    "    #uniqued=list(np.unique(digits))\n",
    "    p=list(permutations(digits))\n",
    "    s=''\n",
    "    r=[]\n",
    "    for tup in p:\n",
    "        for dig in tup:\n",
    "            s+=dig\n",
    "        r.append(int(s))\n",
    "        s=''\n",
    "    print(p)\n",
    "    r=sorted(r)\n",
    "    r=[digit for digit in r if len(str(digit))==len(str(n))]\n",
    "    r=list(np.unique(r))\n",
    "    print(r)\n",
    "    for i in range(len(r)):\n",
    "        if r[i]==n:\n",
    "            if r[0]==r[i]:\n",
    "                return -1\n",
    "            else:\n",
    "                return r[i-1]\n",
    "\n",
    "    return -1\n",
    "\n",
    "def next_smaller(n):\n",
    "    if n<10:\n",
    "        return -1\n",
    "    s=str(n)\n",
    "    l=list(str(n))\n",
    "    for i in range(len(s)):\n",
    "        if int(s[-i])<int(s[-i-1]):\n",
    "            pass\n",
    "    return l\n",
    "tests=[21,531,2071,9,135,1027,414]\n",
    "for t in tests:\n",
    "    print(next_smaller(t))"
   ]
  },
  {
   "cell_type": "code",
   "execution_count": 9,
   "metadata": {},
   "outputs": [],
   "source": [
    "# TEST BLOCK"
   ]
  },
  {
   "cell_type": "code",
   "execution_count": 10,
   "metadata": {},
   "outputs": [
    {
     "name": "stdout",
     "output_type": "stream",
     "text": [
      "found dup: 4\n",
      "found dup: 2\n",
      "found dup: 1\n",
      "found dup: 0\n",
      "found dup: 4\n"
     ]
    },
    {
     "data": {
      "text/plain": [
       "[0, 1, 2, 3, 4, 5, 9, 6]"
      ]
     },
     "execution_count": 10,
     "metadata": {},
     "output_type": "execute_result"
    }
   ],
   "source": [
    "def dup(l:list)->list:\n",
    "    r=[]\n",
    "    for e in l:\n",
    "        r.append(e) if e not in r else print(\"found dup:\", e)\n",
    "    return r\n",
    "dup([0,1,2,3,4,5,4,2,1,0,9,6,4])"
   ]
  },
  {
   "cell_type": "code",
   "execution_count": 11,
   "metadata": {},
   "outputs": [],
   "source": [
    "# import numpy as np\n",
    "# def simple_assembler(program):\n",
    "# \t'''\n",
    "# \t[\"mov a 5\"; \"inc a\"; \"dec a\"; \"dec a\"; \"jnz a -1\"; \"inc a\"]\n",
    "#                                             jump back 1 instruction\n",
    "#     visualized:\n",
    "\n",
    "#     mov a 5\n",
    "#     inc a\n",
    "#     dec a\n",
    "#     dec a\n",
    "#     jnz a -1\n",
    "#     inc a\n",
    "#     '''\n",
    "# \tr={}\n",
    "# \tp=[]\n",
    "# \t# return a dictionary with the registers\n",
    "# \tfor i in range(len(program)):\n",
    "# \t\tp.append(program[i].split(' '))\n",
    "# \tv=list(np.unique([comm[1] for comm in p]))\n",
    "# \tfor var in v: # init\n",
    "# \t\texec(f\"{var}=0\")\n",
    "#     return r\n",
    "\n",
    "# prog=[\"mov a 5\", \"inc a\", \"dec a\", \"dec a\", \"jnz a -1\",\"inc a\"]\n",
    "# simple_assembler(prog)"
   ]
  },
  {
   "cell_type": "code",
   "execution_count": 12,
   "metadata": {},
   "outputs": [
    {
     "data": {
      "text/plain": [
       "[')',\n",
       " '&',\n",
       " '*',\n",
       " '_',\n",
       " '>',\n",
       " '\"',\n",
       " ',',\n",
       " '^',\n",
       " '?',\n",
       " ';',\n",
       " '|',\n",
       " '~',\n",
       " '<',\n",
       " '%',\n",
       " '\\\\',\n",
       " '#',\n",
       " '[',\n",
       " '=',\n",
       " '.',\n",
       " '(',\n",
       " '`',\n",
       " ':',\n",
       " '-',\n",
       " '$',\n",
       " '}',\n",
       " '@',\n",
       " '/',\n",
       " '!',\n",
       " '{',\n",
       " ']',\n",
       " '+']"
      ]
     },
     "execution_count": 12,
     "metadata": {},
     "output_type": "execute_result"
    }
   ],
   "source": [
    "import string\n",
    "list(set(string.punctuation)-set(['\\'']))"
   ]
  },
  {
   "cell_type": "code",
   "execution_count": 13,
   "metadata": {},
   "outputs": [
    {
     "name": "stdout",
     "output_type": "stream",
     "text": [
      "found symbol: :\n",
      "found symbol: ,\n",
      "found symbol other than ' and space: e\n",
      "found symbol other than ' and space: e\n",
      "found symbol other than ' and space: e\n",
      "found symbol other than ' and space: e\n",
      "found symbol other than ' and space: D\n",
      "found symbol other than ' and space: d\n",
      "found symbol other than ' and space: D\n",
      "found symbol other than ' and space: d\n",
      "found symbol other than ' and space: d\n",
      "found symbol other than ' and space: a\n",
      "found symbol other than ' and space: a\n",
      "found symbol other than ' and space: A\n",
      "found symbol other than ' and space: b\n",
      "found symbol other than ' and space: c\n",
      "found symbol other than ' and space: c\n",
      "found symbol other than ' and space: e\n",
      "found symbol other than ' and space: e\n",
      "found symbol other than ' and space: e\n"
     ]
    },
    {
     "data": {
      "text/plain": [
       "['e', 'ddd', 'aa']"
      ]
     },
     "execution_count": 13,
     "metadata": {},
     "output_type": "execute_result"
    }
   ],
   "source": [
    "import numpy as np\n",
    "import string\n",
    "def isSymbExceptApostrophes(s):\n",
    "    return s in list(set(string.punctuation)-set(['\\'']))\n",
    "\n",
    "def onlyApostrophesAndSpace(s):\n",
    "    for letter in s:\n",
    "        if letter!='\\'' and letter!=' ':\n",
    "            print(\"found symbol other than ' and space:\",letter)\n",
    "            return False\n",
    "    return True\n",
    "\n",
    "def top_3_words(text:str):\n",
    "    copy=text\n",
    "    for i in range(len(copy)):\n",
    "        if copy[i] in list(set(string.punctuation)-set(['\\''])):\n",
    "            print('found symbol:',copy[i])\n",
    "            text=text.replace(copy[i],' ')\n",
    "    lst=text.split(' ')\n",
    "    lst=[e.lower() for e in lst if e!='' and not onlyApostrophesAndSpace(e)] # remove empty str ★★ AND SET ALL TO LOWER CASE\n",
    "    u=list(np.unique(lst))\n",
    "    d={word:lst.count(word) for word in u} # dict comprehension ★\n",
    "    d=sorted(d.items(),key=lambda v:v[1],reverse=True) # sort by using special arg : \"key\" ★★★\n",
    "    return list(map(lambda t:t[0],d[:3]))\n",
    "top_3_words(\"e e e e DDD ddd DdD: ddd ddd aa aA Aa, bb cc cC e e e\")\n",
    "# from collections import Counter\n",
    "# import re\n",
    "\n",
    "\n",
    "# def top_3_words(text):\n",
    "#     c = Counter(re.findall(r\"[a-z']+\", re.sub(r\" '+ \", \" \", text.lower())))\n",
    "#     return [w for w,_ in c.most_common(3)]"
   ]
  },
  {
   "cell_type": "markdown",
   "metadata": {},
   "source": [
    "`top_3_words(\"In a village of La Mancha, the name of which I have no desire to call to\n",
    "mind, there lived not long since one of those gentlemen that keep a lance\n",
    "in the lance-rack, an old buckler, a lean hack, and a greyhound for\n",
    "coursing. An olla of rather more beef than mutton, a salad on most\n",
    "nights, scraps on Saturdays, lentils on Fridays, and a pigeon or so extra\n",
    "on Sundays, made away with three-quarters of his income.\")`\n",
    "### => [\"a\", \"of\", \"on\"]\n",
    "\n",
    "`top_3_words(\"e e e e DDD ddd DdD: ddd ddd aa aA Aa, bb cc cC e e e\")`\n",
    "### => [\"e\", \"ddd\", \"aa\"]\n",
    "\n",
    "`top_3_words(\"  //wont won't won't\")`\n",
    "### => [\"won't\", \"wont\"]"
   ]
  },
  {
   "cell_type": "markdown",
   "metadata": {},
   "source": []
  },
  {
   "cell_type": "markdown",
   "metadata": {},
   "source": [
    "# Learn Python **collections** library!!!\n",
    "# Learn Python **collections** library!!!\n",
    "# Learn Python **collections** library!!!\n",
    "# Learn Python **collections** library!!!\n",
    "# Learn Python **collections** library!!!\n",
    "# Learn Python **collections** library!!!\n",
    "# Learn Python **collections** library!!!\n",
    "# Learn Python **collections** library!!!\n",
    "# Learn Python **collections** library!!!\n",
    "# Learn Python **collections** library!!!\n",
    "# Learn Python **collections** library!!!\n",
    "# Learn Python **collections** library!!!\n",
    "# Learn Python **collections** library!!!\n",
    "# Learn Python **collections** library!!!\n",
    "# Learn Python **collections** library!!!\n",
    "# Learn Python **collections** library!!!\n",
    "# Learn Python **collections** library!!!\n",
    "# Learn Python **collections** library!!!\n",
    "# Learn Python **collections** library!!!\n",
    "# Learn Python **collections** library!!!\n",
    "# Learn Python **collections** library!!!\n",
    "# Learn Python **collections** library!!!\n",
    "# Learn Python **collections** library!!!\n",
    "# Learn Python **collections** library!!!\n",
    "# Learn Python **collections** library!!!\n",
    "# Learn Python **collections** library!!!\n",
    "# Learn Python **collections** library!!!\n",
    "# Learn Python **collections** library!!!\n",
    "\n",
    "\n"
   ]
  },
  {
   "cell_type": "code",
   "execution_count": 14,
   "metadata": {},
   "outputs": [
    {
     "data": {
      "text/plain": [
       "14"
      ]
     },
     "execution_count": 14,
     "metadata": {},
     "output_type": "execute_result"
    }
   ],
   "source": [
    "def square_sum(l):\n",
    "    return sum(map(lambda e:e**2,l))\n",
    "\n",
    "square_sum([1,2,3])"
   ]
  },
  {
   "cell_type": "code",
   "execution_count": 15,
   "metadata": {},
   "outputs": [
    {
     "name": "stdout",
     "output_type": "stream",
     "text": [
      "[[0, 1, 0], [1, 1, 2]]\n",
      "-1\n",
      "1\n",
      "1\n",
      "[[2, 1, 1], [2, 1, 1]]\n",
      "0\n"
     ]
    }
   ],
   "source": [
    "import numpy as np\n",
    "\n",
    "\n",
    "def is_solved(l):\n",
    "    '''    \n",
    "    l=[[0, 0, 1],\n",
    "    [0, 1, 2],\n",
    "    [2, 1, 0]]\n",
    "    We want our function to return:\n",
    "\n",
    "    -1 if the board is not yet finished AND no one has won yet (there are empty spots),\n",
    "    1 if \"X\" won,\n",
    "    2 if \"O\" won,\n",
    "    0 if it's a cat's game (i.e. a draw).\n",
    "    You may assume that the board passed in is valid in the context of a game of Tic-Tac-Toe.\n",
    "    '''\n",
    "    transposed = np.array(l).T\n",
    "    diags = [[], []]\n",
    "    for i in range(len(l)):  # check col win+row win\n",
    "        if len(np.unique(l[i])) == 1:\n",
    "            return l[i][0]\n",
    "        if len(np.unique(transposed[i])) == 1:\n",
    "            return transposed[i][0]\n",
    "        for j in range(len(l[i])):  # check dianog\n",
    "            if i == j:\n",
    "                diags[0].append(l[i][j])\n",
    "            if i == len(l[i])-j-1:\n",
    "                diags[1].append(l[i][j])\n",
    "    print(diags)\n",
    "    for diag in diags:\n",
    "        if len(np.unique(diag)) == 1:\n",
    "            return diag[0]\n",
    "    for row in l:\n",
    "        for e in row:\n",
    "            if e == 0:\n",
    "                return -1\n",
    "    return 0\n",
    "\n",
    "\n",
    "board = [[0, 0, 1],\n",
    "         [0, 1, 2],\n",
    "         [2, 1, 0]]  # => -1\n",
    "print(is_solved(board))\n",
    "# winning row\n",
    "board = [[1, 1, 1],\n",
    "         [0, 2, 2],  # => 1\n",
    "         [0, 0, 0]]\n",
    "print(is_solved(board))\n",
    "\n",
    "\n",
    "# winning column\n",
    "board = [[2, 1, 2],\n",
    "         [2, 1, 1],  # => 1\n",
    "         [1, 1, 2]]\n",
    "print(is_solved(board))\n",
    "\n",
    "\n",
    "# draw\n",
    "board = [[2, 1, 2],\n",
    "         [2, 1, 1],  # =>0\n",
    "         [1, 2, 1]]\n",
    "print(is_solved(board))"
   ]
  },
  {
   "cell_type": "code",
   "execution_count": 16,
   "metadata": {},
   "outputs": [
    {
     "data": {
      "text/plain": [
       "[[0, 1, 1], [2, 0, 2], [2, 1, 0]]"
      ]
     },
     "execution_count": 16,
     "metadata": {},
     "output_type": "execute_result"
    }
   ],
   "source": [
    "l=[['[0,1,1]', '[2,0,2]', '[2,1,0]']]\n",
    "lst=[]\n",
    "if len(l)==1:# [['[0,1,1]', '[2,0,2]', '[2,1,0]']]\n",
    "    for row in l[0]:\n",
    "        line=[]\n",
    "        for char in row:\n",
    "            if char.isdigit():\n",
    "                line.append(int(char))\n",
    "        lst.append(line)\n",
    "l=lst\n",
    "l"
   ]
  },
  {
   "cell_type": "code",
   "execution_count": 17,
   "metadata": {},
   "outputs": [],
   "source": [
    "import numpy as np\n",
    "def sum_of_intervals(intervals):\n",
    "    '''Write a function called sumIntervals/sum_intervals that accepts an array of intervals, and returns the sum of all the interval lengths. Overlapping intervals should only be counted once.\n",
    "\n",
    "    Intervals\n",
    "    Intervals are represented by a pair of INTEGERS in the form of an array. The first value of the interval will always be less than the second value. Interval example: [1, 5] is an interval from 1 to 5. The length of this interval is 4'''\n",
    "    # first we must sort the input!!! to make sure the right order to mix\n",
    "    intervals=sorted(intervals,key=lambda l:l[0])\n",
    "    def overlapped(i:list,j:list)->bool:\n",
    "        # i=[1,4] j=[5,10] =>[1,4,5,10]=> i+j\n",
    "        #                     i i j j\n",
    "        # i=[5,10] j=[1,4] =>[1,4,5,10]=> i+j\n",
    "        #                     j j i i\n",
    "\n",
    "        # i=[1,7] j=[5,10] =>[1,5,7,10]=> 1,10\n",
    "        #                     i j i j\n",
    "\n",
    "        # i=[5,10] j=[1,7] =>[1,5,7,10]=> 10,10\n",
    "        #                     j i j i\n",
    "        if i[0]==j[0] and i[1]==j[1]:\n",
    "            return True\n",
    "        mix=sorted(list(i)+list(j))\n",
    "        if (mix[0] in i and mix[1] in i) or (mix[0] in j and mix[i] in j):\n",
    "            return False\n",
    "        return True\n",
    "    # def mixIntervals(i:list,j:list)->list|tuple[list,list]:\n",
    "    #     if overlapped(i,j):\n",
    "    #         return [min(i+j),max(i+j)]\n",
    "    #     return [i,j]\n",
    "\n",
    "\n",
    "    r=0\n",
    "    # for i in len(range(intervals)):\n",
    "    #     if overlapped(intervals[i],intervals[i+1]):\n",
    "    #         r[i]=([min(intervals[i]+intervals[i+1]),max(intervals[i]+intervals[i+1])])\n",
    "    #         r.pop(i+1)\n",
    "    i=0\n",
    "    while i<len(intervals):\n",
    "        try:\n",
    "            if overlapped(intervals[i],intervals[i+1]):\n",
    "                intervals[i]=min(list(intervals[i])+list(intervals[i+1])),max(list(intervals[i])+list(intervals[i+1]))\n",
    "                intervals.pop(i+1)\n",
    "                # we don't plus 1 here because we poped 1 element\n",
    "            else: # not overlkapped\n",
    "                i+=1\n",
    "        except IndexError:\n",
    "            break\n",
    "    for interval in intervals:\n",
    "        r+=(interval[1]-interval[0])\n",
    "    return r"
   ]
  },
  {
   "cell_type": "code",
   "execution_count": 18,
   "metadata": {},
   "outputs": [
    {
     "data": {
      "text/plain": [
       "[[1, 2], [11, 15], [12, 10]]"
      ]
     },
     "execution_count": 18,
     "metadata": {},
     "output_type": "execute_result"
    }
   ],
   "source": [
    "l=[\n",
    "   [1, 2],\n",
    "   [12, 10],\n",
    "   [11, 15]\n",
    "]\n",
    "intervals=sorted(l,key=lambda l:l[0])\n",
    "intervals"
   ]
  },
  {
   "cell_type": "code",
   "execution_count": null,
   "metadata": {},
   "outputs": [],
   "source": []
  }
 ],
 "metadata": {
  "kernelspec": {
   "display_name": "Python 3",
   "language": "python",
   "name": "python3"
  },
  "language_info": {
   "codemirror_mode": {
    "name": "ipython",
    "version": 3
   },
   "file_extension": ".py",
   "mimetype": "text/x-python",
   "name": "python",
   "nbconvert_exporter": "python",
   "pygments_lexer": "ipython3",
   "version": "3.11.6"
  }
 },
 "nbformat": 4,
 "nbformat_minor": 2
}
