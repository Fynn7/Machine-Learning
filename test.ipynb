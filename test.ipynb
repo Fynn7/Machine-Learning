{
 "cells": [
  {
   "cell_type": "code",
   "execution_count": 1,
   "metadata": {},
   "outputs": [],
   "source": [
    "from fynns_tool_model import *\n",
    "# df = pd.DataFrame({'taste': ['Sweet', 'Sweet', 'Sour', 'Sweet', None,'Sour'], 'size': [\n",
    "#                   'Big', 'Big', 'Small', 'Medium',np.nan, 'Small'], 'int_size': [7, 8, 2, np.nan,4, 2], 'color': ['Red', 'Green', 'Green','Green', 'Red', 'Green']})\n",
    "# Xcols = list(set(df.columns)-set(['color']))\n",
    "# m = Model(df[Xcols],df['color'])\n",
    "# m"
   ]
  },
  {
   "cell_type": "code",
   "execution_count": 2,
   "metadata": {},
   "outputs": [
    {
     "name": "stdout",
     "output_type": "stream",
     "text": [
      "Model has automatically set to RandomForestRegressor since you didn't input model name.\n",
      "\n",
      "        Model: RandomForestRegressor\n",
      "        Model Arguments: {'n_estimators': 100}\n",
      "        MAE Score: 0.09027972027972028\n",
      "            \n",
      "X initiallized/updated.\n",
      "y initiallized/updated.\n",
      "modelArgs initiallized/updated.\n"
     ]
    }
   ],
   "source": [
    "from sklearn.datasets import load_breast_cancer\n",
    "\n",
    "data=load_breast_cancer()\n",
    "X=data.data\n",
    "y=data.target\n",
    "m=Model(X,y,n_estimators=100) # directly input a RandomForestRegressor function argument"
   ]
  },
  {
   "cell_type": "code",
   "execution_count": 3,
   "metadata": {},
   "outputs": [
    {
     "name": "stdout",
     "output_type": "stream",
     "text": [
      "There is no columns who both contain NaN and also numeric.\n",
      " Don't need to be imputed.\n"
     ]
    }
   ],
   "source": [
    "m.impute()"
   ]
  },
  {
   "cell_type": "code",
   "execution_count": null,
   "metadata": {},
   "outputs": [],
   "source": []
  }
 ],
 "metadata": {
  "kernelspec": {
   "display_name": "Python 3",
   "language": "python",
   "name": "python3"
  },
  "language_info": {
   "codemirror_mode": {
    "name": "ipython",
    "version": 3
   },
   "file_extension": ".py",
   "mimetype": "text/x-python",
   "name": "python",
   "nbconvert_exporter": "python",
   "pygments_lexer": "ipython3",
   "version": "3.11.6"
  }
 },
 "nbformat": 4,
 "nbformat_minor": 2
}
