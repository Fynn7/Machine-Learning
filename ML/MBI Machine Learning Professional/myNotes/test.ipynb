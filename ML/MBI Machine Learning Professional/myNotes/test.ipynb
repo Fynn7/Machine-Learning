{
 "cells": [
  {
   "cell_type": "code",
   "execution_count": 3,
   "metadata": {},
   "outputs": [
    {
     "data": {
      "text/html": [
       "<div>\n",
       "<style scoped>\n",
       "    .dataframe tbody tr th:only-of-type {\n",
       "        vertical-align: middle;\n",
       "    }\n",
       "\n",
       "    .dataframe tbody tr th {\n",
       "        vertical-align: top;\n",
       "    }\n",
       "\n",
       "    .dataframe thead th {\n",
       "        text-align: right;\n",
       "    }\n",
       "</style>\n",
       "<table border=\"1\" class=\"dataframe\">\n",
       "  <thead>\n",
       "    <tr style=\"text-align: right;\">\n",
       "      <th></th>\n",
       "      <th>Restaurant Name</th>\n",
       "      <th>Rating</th>\n",
       "      <th>Cuisine</th>\n",
       "      <th>Average Price</th>\n",
       "      <th>Average Delivery Time</th>\n",
       "      <th>Safety Measure</th>\n",
       "      <th>Location</th>\n",
       "    </tr>\n",
       "  </thead>\n",
       "  <tbody>\n",
       "    <tr>\n",
       "      <th>0</th>\n",
       "      <td>Campus Bakers</td>\n",
       "      <td>4.3</td>\n",
       "      <td>Bakery, Fast Food, Pizza, Sandwich, Burger</td>\n",
       "      <td>₹50 for one</td>\n",
       "      <td>36 min</td>\n",
       "      <td>Restaurant partner follows WHO protocol</td>\n",
       "      <td>Agra</td>\n",
       "    </tr>\n",
       "    <tr>\n",
       "      <th>1</th>\n",
       "      <td>Mama Chicken Mama Franky House</td>\n",
       "      <td>4</td>\n",
       "      <td>North Indian, Mughlai, Rolls, Burger, Momos</td>\n",
       "      <td>₹50 for one</td>\n",
       "      <td>22 min</td>\n",
       "      <td>Follows all Max Safety measures to ensure your...</td>\n",
       "      <td>Agra</td>\n",
       "    </tr>\n",
       "  </tbody>\n",
       "</table>\n",
       "</div>"
      ],
      "text/plain": [
       "                  Restaurant Name Rating   \n",
       "0                   Campus Bakers    4.3  \\\n",
       "1  Mama Chicken Mama Franky House      4   \n",
       "\n",
       "                                       Cuisine Average Price   \n",
       "0   Bakery, Fast Food, Pizza, Sandwich, Burger   ₹50 for one  \\\n",
       "1  North Indian, Mughlai, Rolls, Burger, Momos   ₹50 for one   \n",
       "\n",
       "  Average Delivery Time                                     Safety Measure   \n",
       "0                36 min            Restaurant partner follows WHO protocol  \\\n",
       "1                22 min  Follows all Max Safety measures to ensure your...   \n",
       "\n",
       "  Location  \n",
       "0     Agra  \n",
       "1     Agra  "
      ]
     },
     "execution_count": 3,
     "metadata": {},
     "output_type": "execute_result"
    }
   ],
   "source": [
    "import numpy as np\n",
    "import pandas as pd\n",
    "\n",
    "from mlToolBox import *\n",
    "\n",
    "dfPath=\"../datasets/zomato_dataset.csv\"\n",
    "df=pd.read_csv(dfPath)\n",
    "df.head(2)"
   ]
  },
  {
   "cell_type": "code",
   "execution_count": 9,
   "metadata": {},
   "outputs": [
    {
     "ename": "TypeError",
     "evalue": "Argument Type Error in one of them: <class 'str'>==str? / <class 'float'>==int?",
     "output_type": "error",
     "traceback": [
      "\u001b[1;31m---------------------------------------------------------------------------\u001b[0m",
      "\u001b[1;31mTypeError\u001b[0m                                 Traceback (most recent call last)",
      "\u001b[1;32mc:\\Users\\Fynn\\OneDrive\\_Docs\\CODING\\Machine Learning\\MBI Machine Learning Professional\\myNotes\\test.ipynb 单元格 2\u001b[0m line \u001b[0;36m1\n\u001b[1;32m----> <a href='vscode-notebook-cell:/c%3A/Users/Fynn/OneDrive/_Docs/CODING/Machine%20Learning/MBI%20Machine%20Learning%20Professional/myNotes/test.ipynb#W1sZmlsZQ%3D%3D?line=0'>1</a>\u001b[0m \u001b[39mprint\u001b[39m(separator(\u001b[39m'\u001b[39;49m\u001b[39m?\u001b[39;49m\u001b[39m'\u001b[39;49m,\u001b[39m3.1\u001b[39;49m,noprint\u001b[39m=\u001b[39;49m\u001b[39mTrue\u001b[39;49;00m))\n",
      "File \u001b[1;32mc:\\Users\\Fynn\\OneDrive\\_Docs\\CODING\\Machine Learning\\MBI Machine Learning Professional\\myNotes\\mlToolBox.py:74\u001b[0m, in \u001b[0;36mseparator\u001b[1;34m(symb, l, noprint)\u001b[0m\n\u001b[0;32m     65\u001b[0m \u001b[39m\u001b[39m\u001b[39m'''\u001b[39;00m\n\u001b[0;32m     66\u001b[0m \u001b[39mFormatter that separates sections.\u001b[39;00m\n\u001b[0;32m     67\u001b[0m \n\u001b[1;32m   (...)\u001b[0m\n\u001b[0;32m     71\u001b[0m \n\u001b[0;32m     72\u001b[0m \u001b[39m'''\u001b[39;00m\n\u001b[0;32m     73\u001b[0m \u001b[39mif\u001b[39;00m \u001b[39mnot\u001b[39;00m \u001b[39misinstance\u001b[39m(symb, \u001b[39mstr\u001b[39m) \u001b[39mor\u001b[39;00m \u001b[39mnot\u001b[39;00m \u001b[39misinstance\u001b[39m(l, \u001b[39mint\u001b[39m):\n\u001b[1;32m---> 74\u001b[0m     \u001b[39mraise\u001b[39;00m \u001b[39mTypeError\u001b[39;00m(\n\u001b[0;32m     75\u001b[0m         \u001b[39mf\u001b[39m\u001b[39m\"\u001b[39m\u001b[39mArgument Type Error in one of them: \u001b[39m\u001b[39m{\u001b[39;00m\u001b[39mtype\u001b[39m(symb)\u001b[39m}\u001b[39;00m\u001b[39m==str? / \u001b[39m\u001b[39m{\u001b[39;00m\u001b[39mtype\u001b[39m(l)\u001b[39m}\u001b[39;00m\u001b[39m==int?\u001b[39m\u001b[39m\"\u001b[39m)\n\u001b[0;32m     76\u001b[0m sep \u001b[39m=\u001b[39m symb\u001b[39m*\u001b[39ml\n\u001b[0;32m     77\u001b[0m \u001b[39mprint\u001b[39m(sep)\n",
      "\u001b[1;31mTypeError\u001b[0m: Argument Type Error in one of them: <class 'str'>==str? / <class 'float'>==int?"
     ]
    }
   ],
   "source": [
    "print(separator('?',3.1,noprint=True))"
   ]
  },
  {
   "cell_type": "code",
   "execution_count": 18,
   "metadata": {},
   "outputs": [
    {
     "data": {
      "text/plain": [
       "('arg1', 'arg2')"
      ]
     },
     "execution_count": 18,
     "metadata": {},
     "output_type": "execute_result"
    }
   ],
   "source": [
    "def test(arg1=1, arg2=2):\n",
    "    return arg1\n",
    "\n",
    "test.__code__.co_varnames\n"
   ]
  },
  {
   "cell_type": "code",
   "execution_count": 20,
   "metadata": {},
   "outputs": [
    {
     "data": {
      "text/plain": [
       "type"
      ]
     },
     "execution_count": 20,
     "metadata": {},
     "output_type": "execute_result"
    }
   ],
   "source": [
    "type(type)"
   ]
  },
  {
   "cell_type": "code",
   "execution_count": null,
   "metadata": {},
   "outputs": [],
   "source": []
  }
 ],
 "metadata": {
  "kernelspec": {
   "display_name": "Python 3",
   "language": "python",
   "name": "python3"
  },
  "language_info": {
   "codemirror_mode": {
    "name": "ipython",
    "version": 3
   },
   "file_extension": ".py",
   "mimetype": "text/x-python",
   "name": "python",
   "nbconvert_exporter": "python",
   "pygments_lexer": "ipython3",
   "version": "3.11.6"
  },
  "orig_nbformat": 4
 },
 "nbformat": 4,
 "nbformat_minor": 2
}
