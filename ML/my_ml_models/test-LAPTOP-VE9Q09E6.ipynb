{
 "cells": [
  {
   "cell_type": "code",
   "execution_count": 1,
   "metadata": {},
   "outputs": [
    {
     "name": "stdout",
     "output_type": "stream",
     "text": [
      "Model set to `RandomForestRegressor` since no input for argument `model`.\n",
      "Model set to `OrdinalEncoder` since no input for argument `model`.\n",
      "X initiallized/updated.\n",
      "y initiallized/updated.\n",
      "modelArgs initiallized/updated.\n"
     ]
    },
    {
     "data": {
      "text/plain": [
       "     size  int_gone_bad  color  int_size  taste\n",
       "0     Big           1.0    Red       7.0  Sweet\n",
       "1     Big           0.0  Green       8.0    NaN\n",
       "2   Small           NaN  Green       2.0  Sweet\n",
       "3  Medium           0.0  Green       5.0   Sour\n",
       "4     NaN           0.0    Red       4.0  Sweet\n",
       "5   Small           0.0  Green       NaN   Sour"
      ]
     },
     "execution_count": 1,
     "metadata": {},
     "output_type": "execute_result"
    }
   ],
   "source": [
    "from fynns_tool_model_v1 import *\n",
    "df = pd.DataFrame({ 'color': ['Red', 'Green', 'Green','Green', 'Red', 'Green'],'int_gone_bad':[1,0,np.nan,0,0,0],'taste': ['Sweet', np.nan,'Sweet', 'Sour', 'Sweet','Sour'], 'size': [\n",
    "                  'Big', 'Big', 'Small', 'Medium',np.nan, 'Small'], 'int_size': [7, 8, 2, 5,4, np.nan]})\n",
    "Xcols = list(set(df.columns)-set(['taste']))\n",
    "m = RegressionModel(df[Xcols],df['taste'],modelArgs={'n_estimators':100,'random_state':42})\n",
    "m"
   ]
  },
  {
   "cell_type": "code",
   "execution_count": 2,
   "metadata": {},
   "outputs": [
    {
     "data": {
      "text/plain": [
       "(['int_gone_bad', 'int_size'], ['size', 'color'])"
      ]
     },
     "execution_count": 2,
     "metadata": {},
     "output_type": "execute_result"
    }
   ],
   "source": [
    "numColsX,catColsX=m.getNumColsX(),m.getCatColsX()\n",
    "numColsX,catColsX"
   ]
  },
  {
   "cell_type": "code",
   "execution_count": 3,
   "metadata": {},
   "outputs": [
    {
     "data": {
      "text/plain": [
       "0    Sweet\n",
       "1      NaN\n",
       "2    Sweet\n",
       "3     Sour\n",
       "4    Sweet\n",
       "5     Sour\n",
       "Name: taste, dtype: object"
      ]
     },
     "execution_count": 3,
     "metadata": {},
     "output_type": "execute_result"
    }
   ],
   "source": [
    "X,y=m.getXy()\n",
    "y"
   ]
  },
  {
   "cell_type": "code",
   "execution_count": 4,
   "metadata": {},
   "outputs": [
    {
     "name": "stdout",
     "output_type": "stream",
     "text": [
      "\n",
      "        Transform Numerical Features Imputer Strategy: most_frequent\n",
      "        Transform Encoder: OrdinalEncoder\n",
      "        Encoder Arguments: {}   \n",
      "        \n",
      "Model set to `RandomForestRegressor` since no input for argument `model`.\n",
      "Model set to `OrdinalEncoder` since no input for argument `model`.\n",
      "X initiallized/updated.\n",
      "y initiallized/updated.\n",
      "==========================================\n",
      "X:\n",
      "---------------------\n",
      "     size  int_gone_bad  color  int_size\n",
      "0     Big           1.0    Red       7.0\n",
      "1     Big           0.0  Green       8.0\n",
      "2   Small           NaN  Green       2.0\n",
      "3  Medium           0.0  Green       5.0\n",
      "4     NaN           0.0    Red       4.0\n",
      "5   Small           0.0  Green       NaN\n",
      "\n",
      "==========================================\n",
      "==========================================\n",
      "y:\n",
      "---------------------\n",
      "0    1.0\n",
      "1    1.0\n",
      "2    1.0\n",
      "3    0.0\n",
      "4    1.0\n",
      "5    0.0\n",
      "Name: taste, dtype: float64\n",
      "\n",
      "==========================================\n",
      "==========================================\n",
      "df:\n",
      "---------------------\n",
      "     size  int_gone_bad  color  int_size  taste\n",
      "0     Big           1.0    Red       7.0    1.0\n",
      "1     Big           0.0  Green       8.0    1.0\n",
      "2   Small           NaN  Green       2.0    1.0\n",
      "3  Medium           0.0  Green       5.0    0.0\n",
      "4     NaN           0.0    Red       4.0    1.0\n",
      "5   Small           0.0  Green       NaN    0.0\n",
      "\n",
      "==========================================\n",
      "==========================================\n",
      "Xtrain:\n",
      "---------------------\n",
      "    size  int_gone_bad  color  int_size\n",
      "4    NaN           0.0    Red       4.0\n",
      "5  Small           0.0  Green       NaN\n",
      "1    Big           0.0  Green       8.0\n",
      "2  Small           NaN  Green       2.0\n",
      "\n",
      "==========================================\n",
      "==========================================\n",
      "Xtest:\n",
      "---------------------\n",
      "     size  int_gone_bad  color  int_size\n",
      "0     Big           1.0    Red       7.0\n",
      "3  Medium           0.0  Green       5.0\n",
      "\n",
      "==========================================\n",
      "==========================================\n",
      "ytrain:\n",
      "---------------------\n",
      "4    1.0\n",
      "5    0.0\n",
      "1    1.0\n",
      "2    1.0\n",
      "Name: taste, dtype: float64\n",
      "\n",
      "==========================================\n",
      "==========================================\n",
      "ytest:\n",
      "---------------------\n",
      "0    1.0\n",
      "3    0.0\n",
      "Name: taste, dtype: float64\n",
      "\n",
      "==========================================\n",
      "==========================================\n",
      "model:\n",
      "---------------------\n",
      "RandomForestRegressor\n",
      "\n",
      "==========================================\n",
      "==========================================\n",
      "modelArgs:\n",
      "---------------------\n",
      "{}\n",
      "\n",
      "==========================================\n",
      "==========================================\n",
      "encoder:\n",
      "---------------------\n",
      "OrdinalEncoder\n",
      "\n",
      "==========================================\n",
      "==========================================\n",
      "encoderArgs:\n",
      "---------------------\n",
      "{}\n",
      "\n",
      "==========================================\n",
      "==========================================\n",
      "numCols:\n",
      "---------------------\n",
      "['int_gone_bad', 'int_size', 'taste']\n",
      "\n",
      "==========================================\n",
      "==========================================\n",
      "catCols:\n",
      "---------------------\n",
      "['size', 'color']\n",
      "\n",
      "==========================================\n",
      "==========================================\n",
      "nanCols:\n",
      "---------------------\n",
      "['size', 'int_gone_bad', 'int_size']\n",
      "\n",
      "==========================================\n",
      "==========================================\n",
      "numColsX:\n",
      "---------------------\n",
      "['int_gone_bad', 'int_size']\n",
      "\n",
      "==========================================\n",
      "==========================================\n",
      "catColsX:\n",
      "---------------------\n",
      "['size', 'color']\n",
      "\n",
      "==========================================\n",
      "==========================================\n",
      "nanColsX:\n",
      "---------------------\n",
      "['size', 'int_gone_bad', 'int_size']\n",
      "\n",
      "==========================================\n",
      "WARNING: IT WILL OVERWRITE THE MODEL ATTRIBUTES!\n",
      "\n",
      "        Transform Categorical Features Imputer Strategy: mean\n",
      "        \n",
      "\n",
      "        Transform Numerical Features Imputer Strategy: most_frequent\n",
      "        Transform Encoder: OrdinalEncoder\n",
      "        Encoder Arguments: {}   \n",
      "        \n"
     ]
    },
    {
     "data": {
      "text/html": [
       "<style>#sk-container-id-1 {color: black;}#sk-container-id-1 pre{padding: 0;}#sk-container-id-1 div.sk-toggleable {background-color: white;}#sk-container-id-1 label.sk-toggleable__label {cursor: pointer;display: block;width: 100%;margin-bottom: 0;padding: 0.3em;box-sizing: border-box;text-align: center;}#sk-container-id-1 label.sk-toggleable__label-arrow:before {content: \"▸\";float: left;margin-right: 0.25em;color: #696969;}#sk-container-id-1 label.sk-toggleable__label-arrow:hover:before {color: black;}#sk-container-id-1 div.sk-estimator:hover label.sk-toggleable__label-arrow:before {color: black;}#sk-container-id-1 div.sk-toggleable__content {max-height: 0;max-width: 0;overflow: hidden;text-align: left;background-color: #f0f8ff;}#sk-container-id-1 div.sk-toggleable__content pre {margin: 0.2em;color: black;border-radius: 0.25em;background-color: #f0f8ff;}#sk-container-id-1 input.sk-toggleable__control:checked~div.sk-toggleable__content {max-height: 200px;max-width: 100%;overflow: auto;}#sk-container-id-1 input.sk-toggleable__control:checked~label.sk-toggleable__label-arrow:before {content: \"▾\";}#sk-container-id-1 div.sk-estimator input.sk-toggleable__control:checked~label.sk-toggleable__label {background-color: #d4ebff;}#sk-container-id-1 div.sk-label input.sk-toggleable__control:checked~label.sk-toggleable__label {background-color: #d4ebff;}#sk-container-id-1 input.sk-hidden--visually {border: 0;clip: rect(1px 1px 1px 1px);clip: rect(1px, 1px, 1px, 1px);height: 1px;margin: -1px;overflow: hidden;padding: 0;position: absolute;width: 1px;}#sk-container-id-1 div.sk-estimator {font-family: monospace;background-color: #f0f8ff;border: 1px dotted black;border-radius: 0.25em;box-sizing: border-box;margin-bottom: 0.5em;}#sk-container-id-1 div.sk-estimator:hover {background-color: #d4ebff;}#sk-container-id-1 div.sk-parallel-item::after {content: \"\";width: 100%;border-bottom: 1px solid gray;flex-grow: 1;}#sk-container-id-1 div.sk-label:hover label.sk-toggleable__label {background-color: #d4ebff;}#sk-container-id-1 div.sk-serial::before {content: \"\";position: absolute;border-left: 1px solid gray;box-sizing: border-box;top: 0;bottom: 0;left: 50%;z-index: 0;}#sk-container-id-1 div.sk-serial {display: flex;flex-direction: column;align-items: center;background-color: white;padding-right: 0.2em;padding-left: 0.2em;position: relative;}#sk-container-id-1 div.sk-item {position: relative;z-index: 1;}#sk-container-id-1 div.sk-parallel {display: flex;align-items: stretch;justify-content: center;background-color: white;position: relative;}#sk-container-id-1 div.sk-item::before, #sk-container-id-1 div.sk-parallel-item::before {content: \"\";position: absolute;border-left: 1px solid gray;box-sizing: border-box;top: 0;bottom: 0;left: 50%;z-index: -1;}#sk-container-id-1 div.sk-parallel-item {display: flex;flex-direction: column;z-index: 1;position: relative;background-color: white;}#sk-container-id-1 div.sk-parallel-item:first-child::after {align-self: flex-end;width: 50%;}#sk-container-id-1 div.sk-parallel-item:last-child::after {align-self: flex-start;width: 50%;}#sk-container-id-1 div.sk-parallel-item:only-child::after {width: 0;}#sk-container-id-1 div.sk-dashed-wrapped {border: 1px dashed gray;margin: 0 0.4em 0.5em 0.4em;box-sizing: border-box;padding-bottom: 0.4em;background-color: white;}#sk-container-id-1 div.sk-label label {font-family: monospace;font-weight: bold;display: inline-block;line-height: 1.2em;}#sk-container-id-1 div.sk-label-container {text-align: center;}#sk-container-id-1 div.sk-container {/* jupyter's `normalize.less` sets `[hidden] { display: none; }` but bootstrap.min.css set `[hidden] { display: none !important; }` so we also need the `!important` here to be able to override the default hidden behavior on the sphinx rendered scikit-learn.org. See: https://github.com/scikit-learn/scikit-learn/issues/21755 */display: inline-block !important;position: relative;}#sk-container-id-1 div.sk-text-repr-fallback {display: none;}</style><div id=\"sk-container-id-1\" class=\"sk-top-container\"><div class=\"sk-text-repr-fallback\"><pre>Pipeline(steps=[(&#x27;preprocessorX&#x27;,\n",
       "                 ColumnTransformer(transformers=[(&#x27;numerical Transformer X&#x27;,\n",
       "                                                  SimpleImputer(),\n",
       "                                                  [&#x27;int_gone_bad&#x27;, &#x27;int_size&#x27;]),\n",
       "                                                 (&#x27;categorical Transformer X&#x27;,\n",
       "                                                  Pipeline(steps=[(&#x27;imputer&#x27;,\n",
       "                                                                   SimpleImputer(strategy=&#x27;most_frequent&#x27;)),\n",
       "                                                                  (&#x27;encoder&#x27;,\n",
       "                                                                   OrdinalEncoder())]),\n",
       "                                                  [&#x27;size&#x27;, &#x27;color&#x27;])])),\n",
       "                (&#x27;model&#x27;, RandomForestRegressor())])</pre><b>In a Jupyter environment, please rerun this cell to show the HTML representation or trust the notebook. <br />On GitHub, the HTML representation is unable to render, please try loading this page with nbviewer.org.</b></div><div class=\"sk-container\" hidden><div class=\"sk-item sk-dashed-wrapped\"><div class=\"sk-label-container\"><div class=\"sk-label sk-toggleable\"><input class=\"sk-toggleable__control sk-hidden--visually\" id=\"sk-estimator-id-1\" type=\"checkbox\" ><label for=\"sk-estimator-id-1\" class=\"sk-toggleable__label sk-toggleable__label-arrow\">Pipeline</label><div class=\"sk-toggleable__content\"><pre>Pipeline(steps=[(&#x27;preprocessorX&#x27;,\n",
       "                 ColumnTransformer(transformers=[(&#x27;numerical Transformer X&#x27;,\n",
       "                                                  SimpleImputer(),\n",
       "                                                  [&#x27;int_gone_bad&#x27;, &#x27;int_size&#x27;]),\n",
       "                                                 (&#x27;categorical Transformer X&#x27;,\n",
       "                                                  Pipeline(steps=[(&#x27;imputer&#x27;,\n",
       "                                                                   SimpleImputer(strategy=&#x27;most_frequent&#x27;)),\n",
       "                                                                  (&#x27;encoder&#x27;,\n",
       "                                                                   OrdinalEncoder())]),\n",
       "                                                  [&#x27;size&#x27;, &#x27;color&#x27;])])),\n",
       "                (&#x27;model&#x27;, RandomForestRegressor())])</pre></div></div></div><div class=\"sk-serial\"><div class=\"sk-item sk-dashed-wrapped\"><div class=\"sk-label-container\"><div class=\"sk-label sk-toggleable\"><input class=\"sk-toggleable__control sk-hidden--visually\" id=\"sk-estimator-id-2\" type=\"checkbox\" ><label for=\"sk-estimator-id-2\" class=\"sk-toggleable__label sk-toggleable__label-arrow\">preprocessorX: ColumnTransformer</label><div class=\"sk-toggleable__content\"><pre>ColumnTransformer(transformers=[(&#x27;numerical Transformer X&#x27;, SimpleImputer(),\n",
       "                                 [&#x27;int_gone_bad&#x27;, &#x27;int_size&#x27;]),\n",
       "                                (&#x27;categorical Transformer X&#x27;,\n",
       "                                 Pipeline(steps=[(&#x27;imputer&#x27;,\n",
       "                                                  SimpleImputer(strategy=&#x27;most_frequent&#x27;)),\n",
       "                                                 (&#x27;encoder&#x27;,\n",
       "                                                  OrdinalEncoder())]),\n",
       "                                 [&#x27;size&#x27;, &#x27;color&#x27;])])</pre></div></div></div><div class=\"sk-parallel\"><div class=\"sk-parallel-item\"><div class=\"sk-item\"><div class=\"sk-label-container\"><div class=\"sk-label sk-toggleable\"><input class=\"sk-toggleable__control sk-hidden--visually\" id=\"sk-estimator-id-3\" type=\"checkbox\" ><label for=\"sk-estimator-id-3\" class=\"sk-toggleable__label sk-toggleable__label-arrow\">numerical Transformer X</label><div class=\"sk-toggleable__content\"><pre>[&#x27;int_gone_bad&#x27;, &#x27;int_size&#x27;]</pre></div></div></div><div class=\"sk-serial\"><div class=\"sk-item\"><div class=\"sk-estimator sk-toggleable\"><input class=\"sk-toggleable__control sk-hidden--visually\" id=\"sk-estimator-id-4\" type=\"checkbox\" ><label for=\"sk-estimator-id-4\" class=\"sk-toggleable__label sk-toggleable__label-arrow\">SimpleImputer</label><div class=\"sk-toggleable__content\"><pre>SimpleImputer()</pre></div></div></div></div></div></div><div class=\"sk-parallel-item\"><div class=\"sk-item\"><div class=\"sk-label-container\"><div class=\"sk-label sk-toggleable\"><input class=\"sk-toggleable__control sk-hidden--visually\" id=\"sk-estimator-id-5\" type=\"checkbox\" ><label for=\"sk-estimator-id-5\" class=\"sk-toggleable__label sk-toggleable__label-arrow\">categorical Transformer X</label><div class=\"sk-toggleable__content\"><pre>[&#x27;size&#x27;, &#x27;color&#x27;]</pre></div></div></div><div class=\"sk-serial\"><div class=\"sk-item\"><div class=\"sk-serial\"><div class=\"sk-item\"><div class=\"sk-estimator sk-toggleable\"><input class=\"sk-toggleable__control sk-hidden--visually\" id=\"sk-estimator-id-6\" type=\"checkbox\" ><label for=\"sk-estimator-id-6\" class=\"sk-toggleable__label sk-toggleable__label-arrow\">SimpleImputer</label><div class=\"sk-toggleable__content\"><pre>SimpleImputer(strategy=&#x27;most_frequent&#x27;)</pre></div></div></div><div class=\"sk-item\"><div class=\"sk-estimator sk-toggleable\"><input class=\"sk-toggleable__control sk-hidden--visually\" id=\"sk-estimator-id-7\" type=\"checkbox\" ><label for=\"sk-estimator-id-7\" class=\"sk-toggleable__label sk-toggleable__label-arrow\">OrdinalEncoder</label><div class=\"sk-toggleable__content\"><pre>OrdinalEncoder()</pre></div></div></div></div></div></div></div></div></div></div><div class=\"sk-item\"><div class=\"sk-estimator sk-toggleable\"><input class=\"sk-toggleable__control sk-hidden--visually\" id=\"sk-estimator-id-8\" type=\"checkbox\" ><label for=\"sk-estimator-id-8\" class=\"sk-toggleable__label sk-toggleable__label-arrow\">RandomForestRegressor</label><div class=\"sk-toggleable__content\"><pre>RandomForestRegressor()</pre></div></div></div></div></div></div></div>"
      ],
      "text/plain": [
       "Pipeline(steps=[('preprocessorX',\n",
       "                 ColumnTransformer(transformers=[('numerical Transformer X',\n",
       "                                                  SimpleImputer(),\n",
       "                                                  ['int_gone_bad', 'int_size']),\n",
       "                                                 ('categorical Transformer X',\n",
       "                                                  Pipeline(steps=[('imputer',\n",
       "                                                                   SimpleImputer(strategy='most_frequent')),\n",
       "                                                                  ('encoder',\n",
       "                                                                   OrdinalEncoder())]),\n",
       "                                                  ['size', 'color'])])),\n",
       "                ('model', RandomForestRegressor())])"
      ]
     },
     "execution_count": 4,
     "metadata": {},
     "output_type": "execute_result"
    }
   ],
   "source": [
    "cleanedy=m.cleanCatY()\n",
    "\n",
    "m.init(X=X,y=cleanedy)\n",
    "m.info()\n",
    "ap=m.autoPipeline()\n",
    "Xtrain,Xtest,ytrain,ytest=m.getTrainTest()\n",
    "ap"
   ]
  },
  {
   "cell_type": "code",
   "execution_count": null,
   "metadata": {},
   "outputs": [],
   "source": []
  }
 ],
 "metadata": {
  "kernelspec": {
   "display_name": "Python 3",
   "language": "python",
   "name": "python3"
  },
  "language_info": {
   "codemirror_mode": {
    "name": "ipython",
    "version": 3
   },
   "file_extension": ".py",
   "mimetype": "text/x-python",
   "name": "python",
   "nbconvert_exporter": "python",
   "pygments_lexer": "ipython3",
   "version": "3.11.7"
  }
 },
 "nbformat": 4,
 "nbformat_minor": 2
}
