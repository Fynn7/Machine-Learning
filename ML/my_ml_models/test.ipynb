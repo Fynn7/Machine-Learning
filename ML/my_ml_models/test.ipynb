{
 "cells": [
  {
   "cell_type": "code",
   "execution_count": 1,
   "metadata": {},
   "outputs": [
    {
     "name": "stdout",
     "output_type": "stream",
     "text": [
      "Model set to `RandomForestRegressor` since no input for argument `model`.\n",
      "Model set to `OrdinalEncoder` since no input for argument `model`.\n",
      "X initiallized/updated.\n",
      "y initiallized/updated.\n",
      "modelArgs initiallized/updated.\n"
     ]
    },
    {
     "data": {
      "text/plain": [
       "   color  taste    size  int_size\n",
       "0    Red  Sweet     Big         7\n",
       "1  Green    NaN     Big         8\n",
       "2  Green  Sweet   Small         2\n",
       "3  Green   Sour  Medium         5\n",
       "4    Red  Sweet     NaN         4\n",
       "5  Green   Sour   Small         2"
      ]
     },
     "execution_count": 1,
     "metadata": {},
     "output_type": "execute_result"
    }
   ],
   "source": [
    "from fynns_tool_model_v1 import *\n",
    "df = pd.DataFrame({ 'color': ['Red', 'Green', 'Green','Green', 'Red', 'Green'],'taste': ['Sweet', np.nan,'Sweet', 'Sour', 'Sweet','Sour'], 'size': [\n",
    "                  'Big', 'Big', 'Small', 'Medium',np.nan, 'Small'], 'int_size': [7, 8, 2, 5,4, 2]})\n",
    "Xcols = list(set(df.columns)-set(['int_size']))\n",
    "m = Model(df[Xcols],df['int_size'],modelArgs={'n_estimators':100})\n",
    "m"
   ]
  },
  {
   "cell_type": "code",
   "execution_count": 2,
   "metadata": {},
   "outputs": [
    {
     "name": "stdout",
     "output_type": "stream",
     "text": [
      "\n",
      "        Transform Categorical Features Imputer Strategy: mean\n",
      "        \n",
      "\n",
      "        Transform Numerical Features Imputer Strategy: most_frequent\n",
      "        Transform Encoder: OrdinalEncoder\n",
      "        Encoder Arguments: {}   \n",
      "        \n"
     ]
    },
    {
     "data": {
      "text/plain": [
       "array([4.77, 2.96])"
      ]
     },
     "execution_count": 2,
     "metadata": {},
     "output_type": "execute_result"
    }
   ],
   "source": [
    "# X,y=m.getXy()\n",
    "# Xtrain,Xtest,ytrain,ytest=m.getTrainTest()\n",
    "# nct,cct=m.transformNumCols(),m.transformCatCols()\n",
    "# preprocessor=m.preprocess(nct,cct)\n",
    "# trained=m.pipeline(preprocessor).fit(Xtrain,ytrain)\n",
    "Xtest=m.getTrainTest()[1]\n",
    "p=m.autoPipeline().predict(Xtest)\n",
    "p"
   ]
  },
  {
   "cell_type": "code",
   "execution_count": 3,
   "metadata": {},
   "outputs": [],
   "source": [
    "# nct=transformNumCols()\n",
    "# nct.fit_transform(X[m.getNumericalCols()],y)\n",
    "# X\n",
    "# cct=transformCatCols(encoder='OneHotEncoder',sparse=False)\n",
    "# pps=preprocessor(m.getNumericalCols(),m.getCategoricalCols(),nct,cct)\n",
    "# ppl=pipeline(pps,random_state=42,n_estimators=100)\n",
    "# Xtrain,Xtest,ytrain,ytest=m.getTrainTest()\n",
    "# ppl.fit(Xtrain,ytrain)\n"
   ]
  }
 ],
 "metadata": {
  "kernelspec": {
   "display_name": "Python 3",
   "language": "python",
   "name": "python3"
  },
  "language_info": {
   "codemirror_mode": {
    "name": "ipython",
    "version": 3
   },
   "file_extension": ".py",
   "mimetype": "text/x-python",
   "name": "python",
   "nbconvert_exporter": "python",
   "pygments_lexer": "ipython3",
   "version": "3.11.6"
  }
 },
 "nbformat": 4,
 "nbformat_minor": 2
}
