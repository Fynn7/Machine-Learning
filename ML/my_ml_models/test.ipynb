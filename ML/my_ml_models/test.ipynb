{
 "cells": [
  {
   "cell_type": "code",
   "execution_count": 1,
   "metadata": {},
   "outputs": [
    {
     "name": "stdout",
     "output_type": "stream",
     "text": [
      "Model set to `RandomForestRegressor` since no input for argument `model`.\n",
      "Encoder set to `OrdinalEncoder` since no input for argument `encoder`.\n",
      "`encoderArgs` set to {} since no input for argument `encoderArgs`.\n",
      "X initiallized/updated.\n",
      "y initiallized/updated.\n",
      "modelArgs initiallized/updated.\n"
     ]
    },
    {
     "data": {
      "text/plain": [
       "   int_size  int_gone_bad  color    size  taste\n",
       "0       7.0           1.0    Red     Big  Sweet\n",
       "1       8.0           0.0  Green     Big  Sweet\n",
       "2       2.0           NaN  Green   Small  Sweet\n",
       "3       5.0           0.0  Green  Medium   Sour\n",
       "4       4.0           0.0    Red     NaN  Sweet\n",
       "5       NaN           0.0  Green   Small   Sour"
      ]
     },
     "execution_count": 1,
     "metadata": {},
     "output_type": "execute_result"
    }
   ],
   "source": [
    "from fynns_tool_model_v1 import *\n",
    "df = pd.DataFrame({ 'color': ['Red', 'Green', 'Green','Green', 'Red', 'Green'],'int_gone_bad':[1,0,np.nan,0,0,0],'taste': ['Sweet', 'Sweet','Sweet', 'Sour', 'Sweet','Sour'], 'size': [\n",
    "                  'Big', 'Big', 'Small', 'Medium',np.nan, 'Small'], 'int_size': [7, 8, 2, 5,4, np.nan]})\n",
    "Xcols = list(set(df.columns)-set(['taste']))\n",
    "m = RegressionModel(df[Xcols],df['taste'],modelArgs={'n_estimators':10,'random_state':42})\n",
    "m"
   ]
  },
  {
   "cell_type": "code",
   "execution_count": 2,
   "metadata": {},
   "outputs": [
    {
     "data": {
      "text/plain": [
       "(['int_size', 'int_gone_bad'], ['color', 'size'])"
      ]
     },
     "execution_count": 2,
     "metadata": {},
     "output_type": "execute_result"
    }
   ],
   "source": [
    "numColsX,catColsX=m.getNumColsX(),m.getCatColsX()\n",
    "numColsX,catColsX"
   ]
  },
  {
   "cell_type": "code",
   "execution_count": 3,
   "metadata": {},
   "outputs": [
    {
     "data": {
      "text/plain": [
       "0    Sweet\n",
       "1    Sweet\n",
       "2    Sweet\n",
       "3     Sour\n",
       "4    Sweet\n",
       "5     Sour\n",
       "Name: taste, dtype: object"
      ]
     },
     "execution_count": 3,
     "metadata": {},
     "output_type": "execute_result"
    }
   ],
   "source": [
    "X,y=m.getXy()\n",
    "y"
   ]
  },
  {
   "cell_type": "code",
   "execution_count": 4,
   "metadata": {},
   "outputs": [
    {
     "name": "stdout",
     "output_type": "stream",
     "text": [
      "\n",
      "        Transform Categorical Features Imputer Strategy: mean\n",
      "        \n",
      "Model Code Built As: OrdinalEncoder()\n",
      "\n",
      "        Transform Numerical Features Imputer Strategy: most_frequent\n",
      "        Transform Encoder: OrdinalEncoder\n",
      "        Encoder Arguments: {}   \n",
      "        \n",
      "\n",
      "              transformed:\n",
      "                 int_size  int_gone_bad  color  size\n",
      "0       3.0           1.0    1.0   0.0\n",
      "1       4.0           0.0    0.0   0.0\n",
      "2       0.0           0.0    0.0   2.0\n",
      "3       2.0           0.0    0.0   1.0\n",
      "4       1.0           0.0    1.0   0.0\n",
      "5       0.0           0.0    0.0   2.0\n",
      "              \n",
      "preprocessed_X:\n",
      "    int_size  int_gone_bad  color  size\n",
      "0       7.0           1.0    1.0   0.0\n",
      "1       8.0           0.0    0.0   0.0\n",
      "2       2.0           0.2    0.0   2.0\n",
      "3       5.0           0.0    0.0   1.0\n",
      "4       4.0           0.0    1.0   0.0\n",
      "5       5.2           0.0    0.0   2.0\n",
      "Model Code Built As: OrdinalEncoder()\n",
      "\n",
      "        Transform Numerical Features Imputer Strategy: most_frequent\n",
      "        Transform Encoder: OrdinalEncoder\n",
      "        Encoder Arguments: {}   \n",
      "        \n",
      "\n",
      "              transformed:\n",
      "                 int_size  int_gone_bad  color  size\n",
      "0       3.0           1.0    1.0   0.0\n",
      "1       4.0           0.0    0.0   0.0\n",
      "2       0.0           0.0    0.0   2.0\n",
      "3       2.0           0.0    0.0   1.0\n",
      "4       1.0           0.0    1.0   0.0\n",
      "5       0.0           0.0    0.0   2.0\n",
      "              \n",
      "Xtrain =\n",
      "    int_size  int_gone_bad  color  size\n",
      "4       4.0           0.0    1.0   0.0\n",
      "5       5.2           0.0    0.0   2.0\n",
      "2       2.0           0.2    0.0   2.0\n",
      "3       5.0           0.0    0.0   1.0\n",
      "Xtest =\n",
      "    int_size  int_gone_bad  color  size\n",
      "0       7.0           1.0    1.0   0.0\n",
      "1       8.0           0.0    0.0   0.0\n",
      "ypred:\n",
      "      0\n",
      "0  0.4\n",
      "1  0.1\n",
      "NOTE: For Cross Validation Score:\n",
      "Code here will work, but still contains error in some special cases.\n",
      "e.g. test categorical data not found in training data etc.\n"
     ]
    },
    {
     "name": "stderr",
     "output_type": "stream",
     "text": [
      "C:\\Users\\Fynn\\AppData\\Local\\Packages\\PythonSoftwareFoundation.Python.3.11_qbz5n2kfra8p0\\LocalCache\\local-packages\\Python311\\site-packages\\sklearn\\model_selection\\_validation.py:842: UserWarning: Scoring failed. The score on this train-test partition for these parameters will be set to nan. Details: \n",
      "Traceback (most recent call last):\n",
      "  File \"C:\\Users\\Fynn\\AppData\\Local\\Packages\\PythonSoftwareFoundation.Python.3.11_qbz5n2kfra8p0\\LocalCache\\local-packages\\Python311\\site-packages\\sklearn\\metrics\\_scorer.py\", line 136, in __call__\n",
      "    score = scorer._score(\n",
      "            ^^^^^^^^^^^^^^\n",
      "  File \"C:\\Users\\Fynn\\AppData\\Local\\Packages\\PythonSoftwareFoundation.Python.3.11_qbz5n2kfra8p0\\LocalCache\\local-packages\\Python311\\site-packages\\sklearn\\metrics\\_scorer.py\", line 353, in _score\n",
      "    y_pred = method_caller(estimator, \"predict\", X)\n",
      "             ^^^^^^^^^^^^^^^^^^^^^^^^^^^^^^^^^^^^^^\n",
      "  File \"C:\\Users\\Fynn\\AppData\\Local\\Packages\\PythonSoftwareFoundation.Python.3.11_qbz5n2kfra8p0\\LocalCache\\local-packages\\Python311\\site-packages\\sklearn\\metrics\\_scorer.py\", line 86, in _cached_call\n",
      "    result, _ = _get_response_values(\n",
      "                ^^^^^^^^^^^^^^^^^^^^^\n",
      "  File \"C:\\Users\\Fynn\\AppData\\Local\\Packages\\PythonSoftwareFoundation.Python.3.11_qbz5n2kfra8p0\\LocalCache\\local-packages\\Python311\\site-packages\\sklearn\\utils\\_response.py\", line 109, in _get_response_values\n",
      "    y_pred, pos_label = estimator.predict(X), None\n",
      "                        ^^^^^^^^^^^^^^^^^^^^\n",
      "  File \"C:\\Users\\Fynn\\AppData\\Local\\Packages\\PythonSoftwareFoundation.Python.3.11_qbz5n2kfra8p0\\LocalCache\\local-packages\\Python311\\site-packages\\sklearn\\pipeline.py\", line 507, in predict\n",
      "    Xt = transform.transform(Xt)\n",
      "         ^^^^^^^^^^^^^^^^^^^^^^^\n",
      "  File \"C:\\Users\\Fynn\\AppData\\Local\\Packages\\PythonSoftwareFoundation.Python.3.11_qbz5n2kfra8p0\\LocalCache\\local-packages\\Python311\\site-packages\\sklearn\\utils\\_set_output.py\", line 140, in wrapped\n",
      "    data_to_wrap = f(self, X, *args, **kwargs)\n",
      "                   ^^^^^^^^^^^^^^^^^^^^^^^^^^^\n",
      "  File \"C:\\Users\\Fynn\\AppData\\Local\\Packages\\PythonSoftwareFoundation.Python.3.11_qbz5n2kfra8p0\\LocalCache\\local-packages\\Python311\\site-packages\\sklearn\\compose\\_column_transformer.py\", line 816, in transform\n",
      "    Xs = self._fit_transform(\n",
      "         ^^^^^^^^^^^^^^^^^^^^\n",
      "  File \"C:\\Users\\Fynn\\AppData\\Local\\Packages\\PythonSoftwareFoundation.Python.3.11_qbz5n2kfra8p0\\LocalCache\\local-packages\\Python311\\site-packages\\sklearn\\compose\\_column_transformer.py\", line 670, in _fit_transform\n",
      "    return Parallel(n_jobs=self.n_jobs)(\n",
      "           ^^^^^^^^^^^^^^^^^^^^^^^^^^^^^\n",
      "  File \"C:\\Users\\Fynn\\AppData\\Local\\Packages\\PythonSoftwareFoundation.Python.3.11_qbz5n2kfra8p0\\LocalCache\\local-packages\\Python311\\site-packages\\sklearn\\utils\\parallel.py\", line 65, in __call__\n",
      "    return super().__call__(iterable_with_config)\n",
      "           ^^^^^^^^^^^^^^^^^^^^^^^^^^^^^^^^^^^^^^\n",
      "  File \"C:\\Users\\Fynn\\AppData\\Local\\Packages\\PythonSoftwareFoundation.Python.3.11_qbz5n2kfra8p0\\LocalCache\\local-packages\\Python311\\site-packages\\joblib\\parallel.py\", line 1855, in __call__\n",
      "    return output if self.return_generator else list(output)\n",
      "                                                ^^^^^^^^^^^^\n",
      "  File \"C:\\Users\\Fynn\\AppData\\Local\\Packages\\PythonSoftwareFoundation.Python.3.11_qbz5n2kfra8p0\\LocalCache\\local-packages\\Python311\\site-packages\\joblib\\parallel.py\", line 1784, in _get_sequential_output\n",
      "    res = func(*args, **kwargs)\n",
      "          ^^^^^^^^^^^^^^^^^^^^^\n",
      "  File \"C:\\Users\\Fynn\\AppData\\Local\\Packages\\PythonSoftwareFoundation.Python.3.11_qbz5n2kfra8p0\\LocalCache\\local-packages\\Python311\\site-packages\\sklearn\\utils\\parallel.py\", line 127, in __call__\n",
      "    return self.function(*args, **kwargs)\n",
      "           ^^^^^^^^^^^^^^^^^^^^^^^^^^^^^^\n",
      "  File \"C:\\Users\\Fynn\\AppData\\Local\\Packages\\PythonSoftwareFoundation.Python.3.11_qbz5n2kfra8p0\\LocalCache\\local-packages\\Python311\\site-packages\\sklearn\\pipeline.py\", line 933, in _transform_one\n",
      "    res = transformer.transform(X)\n",
      "          ^^^^^^^^^^^^^^^^^^^^^^^^\n",
      "  File \"C:\\Users\\Fynn\\AppData\\Local\\Packages\\PythonSoftwareFoundation.Python.3.11_qbz5n2kfra8p0\\LocalCache\\local-packages\\Python311\\site-packages\\sklearn\\pipeline.py\", line 689, in transform\n",
      "    Xt = transform.transform(Xt)\n",
      "         ^^^^^^^^^^^^^^^^^^^^^^^\n",
      "  File \"C:\\Users\\Fynn\\AppData\\Local\\Packages\\PythonSoftwareFoundation.Python.3.11_qbz5n2kfra8p0\\LocalCache\\local-packages\\Python311\\site-packages\\sklearn\\utils\\_set_output.py\", line 140, in wrapped\n",
      "    data_to_wrap = f(self, X, *args, **kwargs)\n",
      "                   ^^^^^^^^^^^^^^^^^^^^^^^^^^^\n",
      "  File \"C:\\Users\\Fynn\\AppData\\Local\\Packages\\PythonSoftwareFoundation.Python.3.11_qbz5n2kfra8p0\\LocalCache\\local-packages\\Python311\\site-packages\\sklearn\\preprocessing\\_encoders.py\", line 1573, in transform\n",
      "    X_int, X_mask = self._transform(\n",
      "                    ^^^^^^^^^^^^^^^^\n",
      "  File \"C:\\Users\\Fynn\\AppData\\Local\\Packages\\PythonSoftwareFoundation.Python.3.11_qbz5n2kfra8p0\\LocalCache\\local-packages\\Python311\\site-packages\\sklearn\\preprocessing\\_encoders.py\", line 199, in _transform\n",
      "    raise ValueError(msg)\n",
      "ValueError: Found unknown categories [1.0] in column 1 during transform\n",
      "\n",
      "  warnings.warn(\n"
     ]
    },
    {
     "data": {
      "text/plain": [
       "(Pipeline(steps=[('preprocessorX',\n",
       "                  ColumnTransformer(transformers=[('numerical Transformer X',\n",
       "                                                   SimpleImputer(),\n",
       "                                                   ['int_size', 'int_gone_bad']),\n",
       "                                                  ('categorical Transformer X',\n",
       "                                                   Pipeline(steps=[('imputer',\n",
       "                                                                    SimpleImputer(strategy='most_frequent')),\n",
       "                                                                   ('encoder',\n",
       "                                                                    OrdinalEncoder())]),\n",
       "                                                   ['color', 'size'])])),\n",
       "                 ('model',\n",
       "                  RandomForestRegressor(n_estimators=10, random_state=42))]),\n",
       " array([0.55, 0.8 ,  nan, 0.6 , 0.5 ]))"
      ]
     },
     "execution_count": 4,
     "metadata": {},
     "output_type": "execute_result"
    }
   ],
   "source": [
    "# cleanedy=m.cleanCatY()\n",
    "\n",
    "# m.init(X=X,y=cleanedy)\n",
    "\n",
    "ap=m.autoPipeline(transformCategoricalY=True,scoring='cv',saveTransformedData=True)\n",
    "# Xtrain,Xtest,ytrain,ytest=m.getTrainTest()\n",
    "ap"
   ]
  },
  {
   "cell_type": "code",
   "execution_count": 5,
   "metadata": {},
   "outputs": [
    {
     "name": "stdout",
     "output_type": "stream",
     "text": [
      "==========================================\n",
      "X:\n",
      "---------------------\n",
      "   int_size  int_gone_bad  color  size\n",
      "0       7.0           1.0    1.0   0.0\n",
      "1       8.0           0.0    0.0   0.0\n",
      "2       2.0           0.2    0.0   2.0\n",
      "3       5.0           0.0    0.0   1.0\n",
      "4       4.0           0.0    1.0   0.0\n",
      "5       5.2           0.0    0.0   2.0\n",
      "\n",
      "==========================================\n",
      "==========================================\n",
      "y:\n",
      "---------------------\n",
      "0    1.0\n",
      "1    1.0\n",
      "2    1.0\n",
      "3    0.0\n",
      "4    1.0\n",
      "5    0.0\n",
      "Name: taste, dtype: float64\n",
      "\n",
      "==========================================\n",
      "==========================================\n",
      "df:\n",
      "---------------------\n",
      "   int_size  int_gone_bad  color    size  taste\n",
      "0       7.0           1.0    Red     Big  Sweet\n",
      "1       8.0           0.0  Green     Big  Sweet\n",
      "2       2.0           NaN  Green   Small  Sweet\n",
      "3       5.0           0.0  Green  Medium   Sour\n",
      "4       4.0           0.0    Red     NaN  Sweet\n",
      "5       NaN           0.0  Green   Small   Sour\n",
      "\n",
      "==========================================\n",
      "==========================================\n",
      "Xtrain:\n",
      "---------------------\n",
      "   int_size  int_gone_bad  color  size\n",
      "4       4.0           0.0    1.0   0.0\n",
      "5       5.2           0.0    0.0   2.0\n",
      "2       2.0           0.2    0.0   2.0\n",
      "3       5.0           0.0    0.0   1.0\n",
      "\n",
      "==========================================\n",
      "==========================================\n",
      "Xtest:\n",
      "---------------------\n",
      "   int_size  int_gone_bad  color size\n",
      "4       4.0           0.0    Red  NaN\n",
      "1       8.0           0.0  Green  Big\n",
      "\n",
      "==========================================\n",
      "==========================================\n",
      "ytrain:\n",
      "---------------------\n",
      "4    1.0\n",
      "5    0.0\n",
      "2    1.0\n",
      "3    0.0\n",
      "Name: taste, dtype: float64\n",
      "\n",
      "==========================================\n",
      "==========================================\n",
      "ytest:\n",
      "---------------------\n",
      "0    1.0\n",
      "1    1.0\n",
      "Name: taste, dtype: float64\n",
      "\n",
      "==========================================\n",
      "==========================================\n",
      "trainTestSplitArgs:\n",
      "---------------------\n",
      "{'train_size': None, 'test_size': None, 'random_state': None}\n",
      "\n",
      "==========================================\n",
      "==========================================\n",
      "model:\n",
      "---------------------\n",
      "RandomForestRegressor\n",
      "\n",
      "==========================================\n",
      "==========================================\n",
      "modelArgs:\n",
      "---------------------\n",
      "{'n_estimators': 10, 'random_state': 42}\n",
      "\n",
      "==========================================\n",
      "==========================================\n",
      "encoder:\n",
      "---------------------\n",
      "OrdinalEncoder\n",
      "\n",
      "==========================================\n",
      "==========================================\n",
      "encoderArgs:\n",
      "---------------------\n",
      "{}\n",
      "\n",
      "==========================================\n",
      "==========================================\n",
      "numCols:\n",
      "---------------------\n",
      "['int_size', 'int_gone_bad']\n",
      "\n",
      "==========================================\n",
      "==========================================\n",
      "catCols:\n",
      "---------------------\n",
      "['color', 'size', 'taste']\n",
      "\n",
      "==========================================\n",
      "==========================================\n",
      "nanCols:\n",
      "---------------------\n",
      "['int_size', 'int_gone_bad', 'size']\n",
      "\n",
      "==========================================\n",
      "==========================================\n",
      "numColsX:\n",
      "---------------------\n",
      "['int_size', 'int_gone_bad']\n",
      "\n",
      "==========================================\n",
      "==========================================\n",
      "catColsX:\n",
      "---------------------\n",
      "['color', 'size']\n",
      "\n",
      "==========================================\n",
      "==========================================\n",
      "nanColsX:\n",
      "---------------------\n",
      "['int_size', 'int_gone_bad', 'size']\n",
      "\n",
      "==========================================\n",
      "==========================================\n",
      "Xtest:\n",
      "---------------------\n",
      "   int_size  int_gone_bad  color  size\n",
      "0       7.0           1.0    1.0   0.0\n",
      "1       8.0           0.0    0.0   0.0\n",
      "\n",
      "==========================================\n"
     ]
    }
   ],
   "source": [
    "m.info()"
   ]
  },
  {
   "cell_type": "code",
   "execution_count": 6,
   "metadata": {},
   "outputs": [
    {
     "name": "stderr",
     "output_type": "stream",
     "text": [
      "C:\\Users\\Fynn\\AppData\\Local\\Packages\\PythonSoftwareFoundation.Python.3.11_qbz5n2kfra8p0\\LocalCache\\local-packages\\Python311\\site-packages\\sklearn\\model_selection\\_validation.py:842: UserWarning: Scoring failed. The score on this train-test partition for these parameters will be set to nan. Details: \n",
      "Traceback (most recent call last):\n",
      "  File \"C:\\Users\\Fynn\\AppData\\Local\\Packages\\PythonSoftwareFoundation.Python.3.11_qbz5n2kfra8p0\\LocalCache\\local-packages\\Python311\\site-packages\\sklearn\\metrics\\_scorer.py\", line 136, in __call__\n",
      "    score = scorer._score(\n",
      "            ^^^^^^^^^^^^^^\n",
      "  File \"C:\\Users\\Fynn\\AppData\\Local\\Packages\\PythonSoftwareFoundation.Python.3.11_qbz5n2kfra8p0\\LocalCache\\local-packages\\Python311\\site-packages\\sklearn\\metrics\\_scorer.py\", line 353, in _score\n",
      "    y_pred = method_caller(estimator, \"predict\", X)\n",
      "             ^^^^^^^^^^^^^^^^^^^^^^^^^^^^^^^^^^^^^^\n",
      "  File \"C:\\Users\\Fynn\\AppData\\Local\\Packages\\PythonSoftwareFoundation.Python.3.11_qbz5n2kfra8p0\\LocalCache\\local-packages\\Python311\\site-packages\\sklearn\\metrics\\_scorer.py\", line 86, in _cached_call\n",
      "    result, _ = _get_response_values(\n",
      "                ^^^^^^^^^^^^^^^^^^^^^\n",
      "  File \"C:\\Users\\Fynn\\AppData\\Local\\Packages\\PythonSoftwareFoundation.Python.3.11_qbz5n2kfra8p0\\LocalCache\\local-packages\\Python311\\site-packages\\sklearn\\utils\\_response.py\", line 109, in _get_response_values\n",
      "    y_pred, pos_label = estimator.predict(X), None\n",
      "                        ^^^^^^^^^^^^^^^^^^^^\n",
      "  File \"C:\\Users\\Fynn\\AppData\\Local\\Packages\\PythonSoftwareFoundation.Python.3.11_qbz5n2kfra8p0\\LocalCache\\local-packages\\Python311\\site-packages\\sklearn\\pipeline.py\", line 507, in predict\n",
      "    Xt = transform.transform(Xt)\n",
      "         ^^^^^^^^^^^^^^^^^^^^^^^\n",
      "  File \"C:\\Users\\Fynn\\AppData\\Local\\Packages\\PythonSoftwareFoundation.Python.3.11_qbz5n2kfra8p0\\LocalCache\\local-packages\\Python311\\site-packages\\sklearn\\utils\\_set_output.py\", line 140, in wrapped\n",
      "    data_to_wrap = f(self, X, *args, **kwargs)\n",
      "                   ^^^^^^^^^^^^^^^^^^^^^^^^^^^\n",
      "  File \"C:\\Users\\Fynn\\AppData\\Local\\Packages\\PythonSoftwareFoundation.Python.3.11_qbz5n2kfra8p0\\LocalCache\\local-packages\\Python311\\site-packages\\sklearn\\compose\\_column_transformer.py\", line 816, in transform\n",
      "    Xs = self._fit_transform(\n",
      "         ^^^^^^^^^^^^^^^^^^^^\n",
      "  File \"C:\\Users\\Fynn\\AppData\\Local\\Packages\\PythonSoftwareFoundation.Python.3.11_qbz5n2kfra8p0\\LocalCache\\local-packages\\Python311\\site-packages\\sklearn\\compose\\_column_transformer.py\", line 670, in _fit_transform\n",
      "    return Parallel(n_jobs=self.n_jobs)(\n",
      "           ^^^^^^^^^^^^^^^^^^^^^^^^^^^^^\n",
      "  File \"C:\\Users\\Fynn\\AppData\\Local\\Packages\\PythonSoftwareFoundation.Python.3.11_qbz5n2kfra8p0\\LocalCache\\local-packages\\Python311\\site-packages\\sklearn\\utils\\parallel.py\", line 65, in __call__\n",
      "    return super().__call__(iterable_with_config)\n",
      "           ^^^^^^^^^^^^^^^^^^^^^^^^^^^^^^^^^^^^^^\n",
      "  File \"C:\\Users\\Fynn\\AppData\\Local\\Packages\\PythonSoftwareFoundation.Python.3.11_qbz5n2kfra8p0\\LocalCache\\local-packages\\Python311\\site-packages\\joblib\\parallel.py\", line 1855, in __call__\n",
      "    return output if self.return_generator else list(output)\n",
      "                                                ^^^^^^^^^^^^\n",
      "  File \"C:\\Users\\Fynn\\AppData\\Local\\Packages\\PythonSoftwareFoundation.Python.3.11_qbz5n2kfra8p0\\LocalCache\\local-packages\\Python311\\site-packages\\joblib\\parallel.py\", line 1784, in _get_sequential_output\n",
      "    res = func(*args, **kwargs)\n",
      "          ^^^^^^^^^^^^^^^^^^^^^\n",
      "  File \"C:\\Users\\Fynn\\AppData\\Local\\Packages\\PythonSoftwareFoundation.Python.3.11_qbz5n2kfra8p0\\LocalCache\\local-packages\\Python311\\site-packages\\sklearn\\utils\\parallel.py\", line 127, in __call__\n",
      "    return self.function(*args, **kwargs)\n",
      "           ^^^^^^^^^^^^^^^^^^^^^^^^^^^^^^\n",
      "  File \"C:\\Users\\Fynn\\AppData\\Local\\Packages\\PythonSoftwareFoundation.Python.3.11_qbz5n2kfra8p0\\LocalCache\\local-packages\\Python311\\site-packages\\sklearn\\pipeline.py\", line 933, in _transform_one\n",
      "    res = transformer.transform(X)\n",
      "          ^^^^^^^^^^^^^^^^^^^^^^^^\n",
      "  File \"C:\\Users\\Fynn\\AppData\\Local\\Packages\\PythonSoftwareFoundation.Python.3.11_qbz5n2kfra8p0\\LocalCache\\local-packages\\Python311\\site-packages\\sklearn\\pipeline.py\", line 689, in transform\n",
      "    Xt = transform.transform(Xt)\n",
      "         ^^^^^^^^^^^^^^^^^^^^^^^\n",
      "  File \"C:\\Users\\Fynn\\AppData\\Local\\Packages\\PythonSoftwareFoundation.Python.3.11_qbz5n2kfra8p0\\LocalCache\\local-packages\\Python311\\site-packages\\sklearn\\utils\\_set_output.py\", line 140, in wrapped\n",
      "    data_to_wrap = f(self, X, *args, **kwargs)\n",
      "                   ^^^^^^^^^^^^^^^^^^^^^^^^^^^\n",
      "  File \"C:\\Users\\Fynn\\AppData\\Local\\Packages\\PythonSoftwareFoundation.Python.3.11_qbz5n2kfra8p0\\LocalCache\\local-packages\\Python311\\site-packages\\sklearn\\preprocessing\\_encoders.py\", line 1573, in transform\n",
      "    X_int, X_mask = self._transform(\n",
      "                    ^^^^^^^^^^^^^^^^\n",
      "  File \"C:\\Users\\Fynn\\AppData\\Local\\Packages\\PythonSoftwareFoundation.Python.3.11_qbz5n2kfra8p0\\LocalCache\\local-packages\\Python311\\site-packages\\sklearn\\preprocessing\\_encoders.py\", line 199, in _transform\n",
      "    raise ValueError(msg)\n",
      "ValueError: Found unknown categories [1.0] in column 1 during transform\n",
      "\n",
      "  warnings.warn(\n"
     ]
    },
    {
     "name": "stdout",
     "output_type": "stream",
     "text": [
      "\n",
      "        Transform Categorical Features Imputer Strategy: mean\n",
      "        \n",
      "Model Code Built As: OrdinalEncoder()\n",
      "\n",
      "        Transform Numerical Features Imputer Strategy: most_frequent\n",
      "        Transform Encoder: OrdinalEncoder\n",
      "        Encoder Arguments: {}   \n",
      "        \n",
      "\n",
      "              transformed:\n",
      "                 int_size  int_gone_bad  color  size\n",
      "0       4.0           2.0    1.0   0.0\n",
      "1       5.0           0.0    0.0   0.0\n",
      "2       0.0           1.0    0.0   2.0\n",
      "3       2.0           0.0    0.0   1.0\n",
      "4       1.0           0.0    1.0   0.0\n",
      "5       3.0           0.0    0.0   2.0\n",
      "              \n",
      "Model Pipeline set to `Pipeline(steps=[('preprocessorX',\n",
      "                 ColumnTransformer(transformers=[('numerical Transformer X',\n",
      "                                                  SimpleImputer(),\n",
      "                                                  ['int_size', 'int_gone_bad']),\n",
      "                                                 ('categorical Transformer X',\n",
      "                                                  Pipeline(steps=[('imputer',\n",
      "                                                                   SimpleImputer(strategy='most_frequent')),\n",
      "                                                                  ('encoder',\n",
      "                                                                   OrdinalEncoder())]),\n",
      "                                                  ['color', 'size'])])),\n",
      "                ('model',\n",
      "                 RandomForestRegressor(n_estimators=10, random_state=42))])` since no input for argument `model` AND ALSO WITH ALL DEFAULT PARAMETERS FOR PIPELINES , PREPROCESSORS etc. .\n"
     ]
    },
    {
     "data": {
      "text/plain": [
       "array([0.55, 0.8 ,  nan, 0.6 , 0.5 ])"
      ]
     },
     "execution_count": 6,
     "metadata": {},
     "output_type": "execute_result"
    }
   ],
   "source": [
    "m.crossValScore()"
   ]
  },
  {
   "cell_type": "code",
   "execution_count": 7,
   "metadata": {},
   "outputs": [
    {
     "data": {
      "text/plain": [
       "True"
      ]
     },
     "execution_count": 7,
     "metadata": {},
     "output_type": "execute_result"
    }
   ],
   "source": [
    "type(Pipeline(steps=[]))==Pipeline"
   ]
  },
  {
   "cell_type": "code",
   "execution_count": 8,
   "metadata": {},
   "outputs": [
    {
     "data": {
      "text/plain": [
       "True"
      ]
     },
     "execution_count": 8,
     "metadata": {},
     "output_type": "execute_result"
    }
   ],
   "source": [
    "type(df)==pd.core.frame.DataFrame"
   ]
  },
  {
   "cell_type": "code",
   "execution_count": null,
   "metadata": {},
   "outputs": [],
   "source": []
  }
 ],
 "metadata": {
  "kernelspec": {
   "display_name": "Python 3",
   "language": "python",
   "name": "python3"
  },
  "language_info": {
   "codemirror_mode": {
    "name": "ipython",
    "version": 3
   },
   "file_extension": ".py",
   "mimetype": "text/x-python",
   "name": "python",
   "nbconvert_exporter": "python",
   "pygments_lexer": "ipython3",
   "version": "3.11.7"
  }
 },
 "nbformat": 4,
 "nbformat_minor": 2
}
