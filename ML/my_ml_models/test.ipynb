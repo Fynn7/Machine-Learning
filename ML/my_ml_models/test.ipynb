{
 "cells": [
  {
   "cell_type": "code",
   "execution_count": 1,
   "metadata": {},
   "outputs": [
    {
     "name": "stdout",
     "output_type": "stream",
     "text": [
      "X initiallized/updated.\n",
      "y initiallized/updated.\n"
     ]
    },
    {
     "data": {
      "text/plain": [
       "   color  int_gone_bad  int_size    size  taste\n",
       "0    Red           1.0       7.0     Big  Sweet\n",
       "1  Green           0.0       8.0     Big  Sweet\n",
       "2  Green           NaN       2.0   Small  Sweet\n",
       "3  Green           0.0       5.0  Medium   Sour\n",
       "4    Red           0.0       4.0     NaN  Sweet\n",
       "5  Green           0.0       NaN   Small   Sour"
      ]
     },
     "execution_count": 1,
     "metadata": {},
     "output_type": "execute_result"
    }
   ],
   "source": [
    "from fynns_tool_model_v1_1 import *\n",
    "df = pd.DataFrame({ 'color': ['Red', 'Green', 'Green','Green', 'Red', 'Green'],'int_gone_bad':[1,0,np.nan,0,0,0],'taste': ['Sweet', 'Sweet','Sweet', 'Sour', 'Sweet','Sour'], 'size': [\n",
    "                  'Big', 'Big', 'Small', 'Medium',np.nan, 'Small'], 'int_size': [7, 8, 2, 5,4, np.nan]})\n",
    "Xcols = list(set(df.columns)-set(['taste']))\n",
    "m = RegressionModel(df[Xcols],df['taste'])\n",
    "m"
   ]
  },
  {
   "cell_type": "code",
   "execution_count": 2,
   "metadata": {},
   "outputs": [
    {
     "name": "stdout",
     "output_type": "stream",
     "text": [
      "DO NOT SAVE IT. NOT YET FINISHED.\n"
     ]
    },
    {
     "data": {
      "text/plain": [
       "(array([[1. , 7. , 1. , 0. ],\n",
       "        [0. , 8. , 0. , 0. ],\n",
       "        [0.2, 2. , 0. , 2. ],\n",
       "        [0. , 5. , 0. , 1. ],\n",
       "        [0. , 4. , 1. , 0. ],\n",
       "        [0. , 5.2, 0. , 2. ]]),\n",
       " array([[1.],\n",
       "        [1.],\n",
       "        [1.],\n",
       "        [0.],\n",
       "        [1.],\n",
       "        [0.]]))"
      ]
     },
     "execution_count": 2,
     "metadata": {},
     "output_type": "execute_result"
    }
   ],
   "source": [
    "m.cleanData(save=True)"
   ]
  },
  {
   "cell_type": "code",
   "execution_count": null,
   "metadata": {},
   "outputs": [],
   "source": []
  }
 ],
 "metadata": {
  "kernelspec": {
   "display_name": "Python 3",
   "language": "python",
   "name": "python3"
  },
  "language_info": {
   "codemirror_mode": {
    "name": "ipython",
    "version": 3
   },
   "file_extension": ".py",
   "mimetype": "text/x-python",
   "name": "python",
   "nbconvert_exporter": "python",
   "pygments_lexer": "ipython3",
   "version": "3.11.7"
  }
 },
 "nbformat": 4,
 "nbformat_minor": 2
}
