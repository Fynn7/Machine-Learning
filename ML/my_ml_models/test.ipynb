{
 "cells": [
  {
   "cell_type": "code",
   "execution_count": 1,
   "metadata": {},
   "outputs": [
    {
     "name": "stdout",
     "output_type": "stream",
     "text": [
      "Model set to `RandomForestRegressor` since no input for argument `model`.\n",
      "Encoder set to `OrdinalEncoder` since no input for argument `encoder`.\n",
      "`encoderArgs` set to {} since no input for argument `encoderArgs`.\n",
      "X initiallized/updated.\n",
      "y initiallized/updated.\n",
      "modelArgs initiallized/updated.\n"
     ]
    },
    {
     "data": {
      "text/plain": [
       "   int_gone_bad    size  color  int_size  taste\n",
       "0           1.0     Big    Red       7.0  Sweet\n",
       "1           0.0     Big  Green       8.0    NaN\n",
       "2           NaN   Small  Green       2.0  Sweet\n",
       "3           0.0  Medium  Green       5.0   Sour\n",
       "4           0.0     NaN    Red       4.0  Sweet\n",
       "5           0.0   Small  Green       NaN   Sour"
      ]
     },
     "execution_count": 1,
     "metadata": {},
     "output_type": "execute_result"
    }
   ],
   "source": [
    "from fynns_tool_model_v1 import *\n",
    "df = pd.DataFrame({ 'color': ['Red', 'Green', 'Green','Green', 'Red', 'Green'],'int_gone_bad':[1,0,np.nan,0,0,0],'taste': ['Sweet', np.nan,'Sweet', 'Sour', 'Sweet','Sour'], 'size': [\n",
    "                  'Big', 'Big', 'Small', 'Medium',np.nan, 'Small'], 'int_size': [7, 8, 2, 5,4, np.nan]})\n",
    "Xcols = list(set(df.columns)-set(['taste']))\n",
    "m = RegressionModel(df[Xcols],df['taste'],modelArgs={'n_estimators':10,'random_state':42})\n",
    "m"
   ]
  },
  {
   "cell_type": "code",
   "execution_count": 2,
   "metadata": {},
   "outputs": [
    {
     "data": {
      "text/plain": [
       "(['int_gone_bad', 'int_size'], ['size', 'color'])"
      ]
     },
     "execution_count": 2,
     "metadata": {},
     "output_type": "execute_result"
    }
   ],
   "source": [
    "numColsX,catColsX=m.getNumColsX(),m.getCatColsX()\n",
    "numColsX,catColsX"
   ]
  },
  {
   "cell_type": "code",
   "execution_count": 3,
   "metadata": {},
   "outputs": [
    {
     "data": {
      "text/plain": [
       "0    Sweet\n",
       "1      NaN\n",
       "2    Sweet\n",
       "3     Sour\n",
       "4    Sweet\n",
       "5     Sour\n",
       "Name: taste, dtype: object"
      ]
     },
     "execution_count": 3,
     "metadata": {},
     "output_type": "execute_result"
    }
   ],
   "source": [
    "X,y=m.getXy()\n",
    "y"
   ]
  },
  {
   "cell_type": "code",
   "execution_count": 4,
   "metadata": {},
   "outputs": [
    {
     "name": "stdout",
     "output_type": "stream",
     "text": [
      "Model Code Built As: OrdinalEncoder()\n",
      "\n",
      "        Transform Numerical Features Imputer Strategy: most_frequent\n",
      "        Transform Encoder: OrdinalEncoder\n",
      "        Encoder Arguments: {}   \n",
      "        \n",
      "\n",
      "              transformed:\n",
      "                 int_gone_bad  size  color  int_size\n",
      "0           1.0   0.0    1.0       3.0\n",
      "1           0.0   0.0    0.0       4.0\n",
      "2           0.0   2.0    0.0       0.0\n",
      "3           0.0   1.0    0.0       2.0\n",
      "4           0.0   0.0    1.0       1.0\n",
      "5           0.0   2.0    0.0       0.0\n",
      "              \n",
      "Model set to `RandomForestRegressor` since no input for argument `model`.\n",
      "`modelArgs` set to {} since no input for argument `modelArgs`.\n",
      "Encoder set to `OrdinalEncoder` since no input for argument `encoder`.\n",
      "`encoderArgs` set to {} since no input for argument `encoderArgs`.\n",
      "X initiallized/updated.\n",
      "y initiallized/updated.\n",
      "\n",
      "        Transform Categorical Features Imputer Strategy: mean\n",
      "        \n",
      "Model Code Built As: OrdinalEncoder()\n",
      "\n",
      "        Transform Numerical Features Imputer Strategy: most_frequent\n",
      "        Transform Encoder: OrdinalEncoder\n",
      "        Encoder Arguments: {}   \n",
      "        \n",
      "\n",
      "              transformed:\n",
      "                 int_gone_bad  size  color  int_size\n",
      "0           1.0   0.0    1.0       3.0\n",
      "1           0.0   0.0    0.0       4.0\n",
      "2           0.0   2.0    0.0       0.0\n",
      "3           0.0   1.0    0.0       2.0\n",
      "4           0.0   0.0    1.0       1.0\n",
      "5           0.0   2.0    0.0       0.0\n",
      "              \n",
      "preprocessed_X:\n",
      "    int_gone_bad  int_size  size  color\n",
      "0           1.0       7.0   0.0    1.0\n",
      "1           0.0       8.0   0.0    0.0\n",
      "2           0.2       2.0   2.0    0.0\n",
      "3           0.0       5.0   1.0    0.0\n",
      "4           0.0       4.0   0.0    1.0\n",
      "5           0.0       5.2   2.0    0.0\n",
      "Xtrain =\n",
      "    int_gone_bad  int_size  size  color\n",
      "3           0.0       5.0   1.0    0.0\n",
      "2           0.2       2.0   2.0    0.0\n",
      "5           0.0       5.2   2.0    0.0\n",
      "4           0.0       4.0   0.0    1.0\n",
      "Xtest =\n",
      "    int_gone_bad  int_size  size  color\n",
      "0           1.0       7.0   0.0    1.0\n",
      "1           0.0       8.0   0.0    0.0\n",
      "ypred:\n",
      "       0\n",
      "0  0.36\n",
      "1  0.11\n"
     ]
    },
    {
     "data": {
      "text/plain": [
       "(Pipeline(steps=[('preprocessorX',\n",
       "                  ColumnTransformer(transformers=[('numerical Transformer X',\n",
       "                                                   SimpleImputer(),\n",
       "                                                   ['int_gone_bad', 'int_size']),\n",
       "                                                  ('categorical Transformer X',\n",
       "                                                   Pipeline(steps=[('imputer',\n",
       "                                                                    SimpleImputer(strategy='most_frequent')),\n",
       "                                                                   ('encoder',\n",
       "                                                                    OrdinalEncoder())]),\n",
       "                                                   ['size', 'color'])])),\n",
       "                 ('model', RandomForestRegressor())]),\n",
       " 0.765)"
      ]
     },
     "execution_count": 4,
     "metadata": {},
     "output_type": "execute_result"
    }
   ],
   "source": [
    "cleanedy=m.cleanCatY()\n",
    "\n",
    "m.init(X=X,y=cleanedy)\n",
    "\n",
    "ap=m.autoPipeline()\n",
    "Xtrain,Xtest,ytrain,ytest=m.getTrainTest()\n",
    "ap"
   ]
  },
  {
   "cell_type": "code",
   "execution_count": null,
   "metadata": {},
   "outputs": [],
   "source": []
  }
 ],
 "metadata": {
  "kernelspec": {
   "display_name": "Python 3",
   "language": "python",
   "name": "python3"
  },
  "language_info": {
   "codemirror_mode": {
    "name": "ipython",
    "version": 3
   },
   "file_extension": ".py",
   "mimetype": "text/x-python",
   "name": "python",
   "nbconvert_exporter": "python",
   "pygments_lexer": "ipython3",
   "version": "3.11.7"
  }
 },
 "nbformat": 4,
 "nbformat_minor": 2
}
