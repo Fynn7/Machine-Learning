{
 "cells": [
  {
   "cell_type": "code",
   "execution_count": 1,
   "metadata": {},
   "outputs": [
    {
     "name": "stdout",
     "output_type": "stream",
     "text": [
      "Model set to `RandomForestRegressor` since no input for argument `model`.\n",
      "Encoder set to `OrdinalEncoder` since no input for argument `encoder`.\n",
      "`encoderArgs` set to {} since no input for argument `encoderArgs`.\n",
      "X initiallized/updated.\n",
      "y initiallized/updated.\n",
      "modelArgs initiallized/updated.\n"
     ]
    },
    {
     "data": {
      "text/plain": [
       "   color  int_size  int_gone_bad    size  taste\n",
       "0    Red       7.0           1.0     Big  Sweet\n",
       "1  Green       8.0           0.0     Big  Sweet\n",
       "2  Green       2.0           NaN   Small  Sweet\n",
       "3  Green       5.0           0.0  Medium   Sour\n",
       "4    Red       4.0           0.0     NaN  Sweet\n",
       "5  Green       NaN           0.0   Small   Sour"
      ]
     },
     "execution_count": 1,
     "metadata": {},
     "output_type": "execute_result"
    }
   ],
   "source": [
    "from fynns_tool_model_v1 import *\n",
    "df = pd.DataFrame({ 'color': ['Red', 'Green', 'Green','Green', 'Red', 'Green'],'int_gone_bad':[1,0,np.nan,0,0,0],'taste': ['Sweet', 'Sweet','Sweet', 'Sour', 'Sweet','Sour'], 'size': [\n",
    "                  'Big', 'Big', 'Small', 'Medium',np.nan, 'Small'], 'int_size': [7, 8, 2, 5,4, np.nan]})\n",
    "Xcols = list(set(df.columns)-set(['taste']))\n",
    "m = RegressionModel(df[Xcols],df['taste'],modelArgs={'n_estimators':10,'random_state':42})\n",
    "m"
   ]
  },
  {
   "cell_type": "code",
   "execution_count": 2,
   "metadata": {},
   "outputs": [
    {
     "data": {
      "text/plain": [
       "(['int_size', 'int_gone_bad'], ['color', 'size'])"
      ]
     },
     "execution_count": 2,
     "metadata": {},
     "output_type": "execute_result"
    }
   ],
   "source": [
    "numColsX,catColsX=m.getNumColsX(),m.getCatColsX()\n",
    "numColsX,catColsX"
   ]
  },
  {
   "cell_type": "code",
   "execution_count": 3,
   "metadata": {},
   "outputs": [
    {
     "data": {
      "text/plain": [
       "0    Sweet\n",
       "1    Sweet\n",
       "2    Sweet\n",
       "3     Sour\n",
       "4    Sweet\n",
       "5     Sour\n",
       "Name: taste, dtype: object"
      ]
     },
     "execution_count": 3,
     "metadata": {},
     "output_type": "execute_result"
    }
   ],
   "source": [
    "X,y=m.getXy()\n",
    "y"
   ]
  },
  {
   "cell_type": "code",
   "execution_count": 4,
   "metadata": {},
   "outputs": [
    {
     "name": "stdout",
     "output_type": "stream",
     "text": [
      "\n",
      "        Transform Categorical Features Imputer Strategy: mean\n",
      "        \n",
      "Model Code Built As: OrdinalEncoder()\n",
      "\n",
      "        Transform Numerical Features Imputer Strategy: most_frequent\n",
      "        Transform Encoder: OrdinalEncoder\n",
      "        Encoder Arguments: {}   \n",
      "        \n",
      "\n",
      "              transformed:\n",
      "                 color  int_size  int_gone_bad  size\n",
      "0    1.0       3.0           1.0   0.0\n",
      "1    0.0       4.0           0.0   0.0\n",
      "2    0.0       0.0           0.0   2.0\n",
      "3    0.0       2.0           0.0   1.0\n",
      "4    1.0       1.0           0.0   0.0\n",
      "5    0.0       0.0           0.0   2.0\n",
      "              \n",
      "preprocessed_X:\n",
      "    int_size  int_gone_bad  color  size\n",
      "0       7.0           1.0    1.0   0.0\n",
      "1       8.0           0.0    0.0   0.0\n",
      "2       2.0           0.2    0.0   2.0\n",
      "3       5.0           0.0    0.0   1.0\n",
      "4       4.0           0.0    1.0   0.0\n",
      "5       5.2           0.0    0.0   2.0\n",
      "Xtrain =\n",
      "    int_size  int_gone_bad  color  size\n",
      "0       7.0           1.0    1.0   0.0\n",
      "4       4.0           0.0    1.0   0.0\n",
      "5       5.2           0.0    0.0   2.0\n",
      "2       2.0           0.2    0.0   2.0\n",
      "Xtest =\n",
      "    int_size  int_gone_bad  color  size\n",
      "3       5.0           0.0    0.0   1.0\n",
      "1       8.0           0.0    0.0   0.0\n"
     ]
    },
    {
     "ename": "Exception",
     "evalue": "The y (aka. target) feature column is maybe not clean. It either contains missing values, or it is categorical, non numerical.\n Try use these code before creating autoPipeline:\n\ncleanedy=m.cleanCatY()\nm.autoPipeline()\n\nOriginal Error Message\n>>> 【could not convert string to float: 'Sweet'】",
     "output_type": "error",
     "traceback": [
      "\u001b[1;31m---------------------------------------------------------------------------\u001b[0m",
      "\u001b[1;31mValueError\u001b[0m                                Traceback (most recent call last)",
      "File \u001b[1;32mc:\\Users\\Fynn\\OneDrive\\_Docs\\CODING\\GitHub\\Github_CODING\\ML\\my_ml_models\\fynns_tool_model_v1.py:746\u001b[0m, in \u001b[0;36mRegressionModel.autoPipeline\u001b[1;34m(self, transformNumStrategy, transformCatColImputeStrategy)\u001b[0m\n\u001b[0;32m    745\u001b[0m \u001b[39mtry\u001b[39;00m:\n\u001b[1;32m--> 746\u001b[0m     trained \u001b[39m=\u001b[39m model\u001b[39m.\u001b[39;49mfit(Xtrain, ytrain)\n\u001b[0;32m    747\u001b[0m \u001b[39mexcept\u001b[39;00m \u001b[39mValueError\u001b[39;00m \u001b[39mas\u001b[39;00m e:\n",
      "File \u001b[1;32m~\\AppData\\Local\\Packages\\PythonSoftwareFoundation.Python.3.11_qbz5n2kfra8p0\\LocalCache\\local-packages\\Python311\\site-packages\\sklearn\\base.py:1151\u001b[0m, in \u001b[0;36m_fit_context.<locals>.decorator.<locals>.wrapper\u001b[1;34m(estimator, *args, **kwargs)\u001b[0m\n\u001b[0;32m   1146\u001b[0m \u001b[39mwith\u001b[39;00m config_context(\n\u001b[0;32m   1147\u001b[0m     skip_parameter_validation\u001b[39m=\u001b[39m(\n\u001b[0;32m   1148\u001b[0m         prefer_skip_nested_validation \u001b[39mor\u001b[39;00m global_skip_validation\n\u001b[0;32m   1149\u001b[0m     )\n\u001b[0;32m   1150\u001b[0m ):\n\u001b[1;32m-> 1151\u001b[0m     \u001b[39mreturn\u001b[39;00m fit_method(estimator, \u001b[39m*\u001b[39;49margs, \u001b[39m*\u001b[39;49m\u001b[39m*\u001b[39;49mkwargs)\n",
      "File \u001b[1;32m~\\AppData\\Local\\Packages\\PythonSoftwareFoundation.Python.3.11_qbz5n2kfra8p0\\LocalCache\\local-packages\\Python311\\site-packages\\sklearn\\pipeline.py:420\u001b[0m, in \u001b[0;36mPipeline.fit\u001b[1;34m(self, X, y, **fit_params)\u001b[0m\n\u001b[0;32m    419\u001b[0m         fit_params_last_step \u001b[39m=\u001b[39m fit_params_steps[\u001b[39mself\u001b[39m\u001b[39m.\u001b[39msteps[\u001b[39m-\u001b[39m\u001b[39m1\u001b[39m][\u001b[39m0\u001b[39m]]\n\u001b[1;32m--> 420\u001b[0m         \u001b[39mself\u001b[39;49m\u001b[39m.\u001b[39;49m_final_estimator\u001b[39m.\u001b[39;49mfit(Xt, y, \u001b[39m*\u001b[39;49m\u001b[39m*\u001b[39;49mfit_params_last_step)\n\u001b[0;32m    422\u001b[0m \u001b[39mreturn\u001b[39;00m \u001b[39mself\u001b[39m\n",
      "File \u001b[1;32m~\\AppData\\Local\\Packages\\PythonSoftwareFoundation.Python.3.11_qbz5n2kfra8p0\\LocalCache\\local-packages\\Python311\\site-packages\\sklearn\\base.py:1151\u001b[0m, in \u001b[0;36m_fit_context.<locals>.decorator.<locals>.wrapper\u001b[1;34m(estimator, *args, **kwargs)\u001b[0m\n\u001b[0;32m   1146\u001b[0m \u001b[39mwith\u001b[39;00m config_context(\n\u001b[0;32m   1147\u001b[0m     skip_parameter_validation\u001b[39m=\u001b[39m(\n\u001b[0;32m   1148\u001b[0m         prefer_skip_nested_validation \u001b[39mor\u001b[39;00m global_skip_validation\n\u001b[0;32m   1149\u001b[0m     )\n\u001b[0;32m   1150\u001b[0m ):\n\u001b[1;32m-> 1151\u001b[0m     \u001b[39mreturn\u001b[39;00m fit_method(estimator, \u001b[39m*\u001b[39;49margs, \u001b[39m*\u001b[39;49m\u001b[39m*\u001b[39;49mkwargs)\n",
      "File \u001b[1;32m~\\AppData\\Local\\Packages\\PythonSoftwareFoundation.Python.3.11_qbz5n2kfra8p0\\LocalCache\\local-packages\\Python311\\site-packages\\sklearn\\ensemble\\_forest.py:393\u001b[0m, in \u001b[0;36mBaseForest.fit\u001b[1;34m(self, X, y, sample_weight)\u001b[0m\n\u001b[0;32m    392\u001b[0m \u001b[39mif\u001b[39;00m \u001b[39mgetattr\u001b[39m(y, \u001b[39m\"\u001b[39m\u001b[39mdtype\u001b[39m\u001b[39m\"\u001b[39m, \u001b[39mNone\u001b[39;00m) \u001b[39m!=\u001b[39m DOUBLE \u001b[39mor\u001b[39;00m \u001b[39mnot\u001b[39;00m y\u001b[39m.\u001b[39mflags\u001b[39m.\u001b[39mcontiguous:\n\u001b[1;32m--> 393\u001b[0m     y \u001b[39m=\u001b[39m np\u001b[39m.\u001b[39;49mascontiguousarray(y, dtype\u001b[39m=\u001b[39;49mDOUBLE)\n\u001b[0;32m    395\u001b[0m \u001b[39mif\u001b[39;00m expanded_class_weight \u001b[39mis\u001b[39;00m \u001b[39mnot\u001b[39;00m \u001b[39mNone\u001b[39;00m:\n",
      "\u001b[1;31mValueError\u001b[0m: could not convert string to float: 'Sweet'",
      "\nDuring handling of the above exception, another exception occurred:\n",
      "\u001b[1;31mException\u001b[0m                                 Traceback (most recent call last)",
      "\u001b[1;32mc:\\Users\\Fynn\\OneDrive\\_Docs\\CODING\\GitHub\\Github_CODING\\ML\\my_ml_models\\test.ipynb 单元格 4\u001b[0m line \u001b[0;36m5\n\u001b[0;32m      <a href='vscode-notebook-cell:/c%3A/Users/Fynn/OneDrive/_Docs/CODING/GitHub/Github_CODING/ML/my_ml_models/test.ipynb#W3sZmlsZQ%3D%3D?line=0'>1</a>\u001b[0m \u001b[39m# cleanedy=m.cleanCatY()\u001b[39;00m\n\u001b[0;32m      <a href='vscode-notebook-cell:/c%3A/Users/Fynn/OneDrive/_Docs/CODING/GitHub/Github_CODING/ML/my_ml_models/test.ipynb#W3sZmlsZQ%3D%3D?line=1'>2</a>\u001b[0m \n\u001b[0;32m      <a href='vscode-notebook-cell:/c%3A/Users/Fynn/OneDrive/_Docs/CODING/GitHub/Github_CODING/ML/my_ml_models/test.ipynb#W3sZmlsZQ%3D%3D?line=2'>3</a>\u001b[0m \u001b[39m# m.init(X=X,y=cleanedy)\u001b[39;00m\n\u001b[1;32m----> <a href='vscode-notebook-cell:/c%3A/Users/Fynn/OneDrive/_Docs/CODING/GitHub/Github_CODING/ML/my_ml_models/test.ipynb#W3sZmlsZQ%3D%3D?line=4'>5</a>\u001b[0m ap\u001b[39m=\u001b[39mm\u001b[39m.\u001b[39;49mautoPipeline()\n\u001b[0;32m      <a href='vscode-notebook-cell:/c%3A/Users/Fynn/OneDrive/_Docs/CODING/GitHub/Github_CODING/ML/my_ml_models/test.ipynb#W3sZmlsZQ%3D%3D?line=5'>6</a>\u001b[0m \u001b[39m# Xtrain,Xtest,ytrain,ytest=m.getTrainTest()\u001b[39;00m\n\u001b[0;32m      <a href='vscode-notebook-cell:/c%3A/Users/Fynn/OneDrive/_Docs/CODING/GitHub/Github_CODING/ML/my_ml_models/test.ipynb#W3sZmlsZQ%3D%3D?line=6'>7</a>\u001b[0m ap\n",
      "File \u001b[1;32mc:\\Users\\Fynn\\OneDrive\\_Docs\\CODING\\GitHub\\Github_CODING\\ML\\my_ml_models\\fynns_tool_model_v1.py:748\u001b[0m, in \u001b[0;36mRegressionModel.autoPipeline\u001b[1;34m(self, transformNumStrategy, transformCatColImputeStrategy)\u001b[0m\n\u001b[0;32m    746\u001b[0m     trained \u001b[39m=\u001b[39m model\u001b[39m.\u001b[39mfit(Xtrain, ytrain)\n\u001b[0;32m    747\u001b[0m \u001b[39mexcept\u001b[39;00m \u001b[39mValueError\u001b[39;00m \u001b[39mas\u001b[39;00m e:\n\u001b[1;32m--> 748\u001b[0m     \u001b[39mraise\u001b[39;00m \u001b[39mException\u001b[39;00m(\u001b[39mf\u001b[39m\u001b[39m\"\u001b[39m\u001b[39mThe y (aka. target) feature column is maybe not clean. It either contains missing values, or it is categorical, non numerical.\u001b[39m\u001b[39m\\n\u001b[39;00m\u001b[39m Try use these code before creating autoPipeline:\u001b[39m\u001b[39m\\n\u001b[39;00m\u001b[39m\\n\u001b[39;00m\u001b[39mcleanedy=m.cleanCatY()\u001b[39m\u001b[39m\\n\u001b[39;00m\u001b[39mm.autoPipeline()\u001b[39m\u001b[39m\\n\u001b[39;00m\u001b[39m\\n\u001b[39;00m\u001b[39mOriginal Error Message\u001b[39m\u001b[39m\\n\u001b[39;00m\u001b[39m>>> 【\u001b[39m\u001b[39m{\u001b[39;00me\u001b[39m}\u001b[39;00m\u001b[39m】\u001b[39m\u001b[39m\"\u001b[39m)\n\u001b[0;32m    749\u001b[0m \u001b[39mtry\u001b[39;00m:\n\u001b[0;32m    750\u001b[0m     ypred \u001b[39m=\u001b[39m trained\u001b[39m.\u001b[39mpredict(Xtest)  \u001b[39m# should be a y prediction\u001b[39;00m\n",
      "\u001b[1;31mException\u001b[0m: The y (aka. target) feature column is maybe not clean. It either contains missing values, or it is categorical, non numerical.\n Try use these code before creating autoPipeline:\n\ncleanedy=m.cleanCatY()\nm.autoPipeline()\n\nOriginal Error Message\n>>> 【could not convert string to float: 'Sweet'】"
     ]
    }
   ],
   "source": [
    "# cleanedy=m.cleanCatY()\n",
    "\n",
    "# m.init(X=X,y=cleanedy)\n",
    "\n",
    "ap=m.autoPipeline()\n",
    "# Xtrain,Xtest,ytrain,ytest=m.getTrainTest()\n",
    "ap"
   ]
  },
  {
   "cell_type": "code",
   "execution_count": null,
   "metadata": {},
   "outputs": [],
   "source": []
  }
 ],
 "metadata": {
  "kernelspec": {
   "display_name": "Python 3",
   "language": "python",
   "name": "python3"
  },
  "language_info": {
   "codemirror_mode": {
    "name": "ipython",
    "version": 3
   },
   "file_extension": ".py",
   "mimetype": "text/x-python",
   "name": "python",
   "nbconvert_exporter": "python",
   "pygments_lexer": "ipython3",
   "version": "3.11.7"
  }
 },
 "nbformat": 4,
 "nbformat_minor": 2
}
