{
 "cells": [
  {
   "cell_type": "code",
   "execution_count": 1,
   "metadata": {},
   "outputs": [
    {
     "name": "stdout",
     "output_type": "stream",
     "text": [
      "Model set to `RandomForestRegressor` since no input for argument `model`.\n",
      "Model set to `OrdinalEncoder` since no input for argument `model`.\n",
      "X initiallized/updated.\n",
      "y initiallized/updated.\n",
      "modelArgs initiallized/updated.\n"
     ]
    },
    {
     "data": {
      "text/plain": [
       "   color    size  int_gone_bad  int_size  taste\n",
       "0    Red     Big           1.0       7.0  Sweet\n",
       "1  Green     Big           0.0       8.0    NaN\n",
       "2  Green   Small           NaN       2.0  Sweet\n",
       "3  Green  Medium           0.0       5.0   Sour\n",
       "4    Red     NaN           0.0       4.0  Sweet\n",
       "5  Green   Small           0.0       NaN   Sour"
      ]
     },
     "execution_count": 1,
     "metadata": {},
     "output_type": "execute_result"
    }
   ],
   "source": [
    "from fynns_tool_model_v1 import *\n",
    "df = pd.DataFrame({ 'color': ['Red', 'Green', 'Green','Green', 'Red', 'Green'],'int_gone_bad':[1,0,np.nan,0,0,0],'taste': ['Sweet', np.nan,'Sweet', 'Sour', 'Sweet','Sour'], 'size': [\n",
    "                  'Big', 'Big', 'Small', 'Medium',np.nan, 'Small'], 'int_size': [7, 8, 2, 5,4, np.nan]})\n",
    "Xcols = list(set(df.columns)-set(['taste']))\n",
    "m = RegressionModel(df[Xcols],df['taste'],modelArgs={'n_estimators':100,'random_state':42})\n",
    "m"
   ]
  },
  {
   "cell_type": "code",
   "execution_count": 2,
   "metadata": {},
   "outputs": [
    {
     "data": {
      "text/html": [
       "<div>\n",
       "<style scoped>\n",
       "    .dataframe tbody tr th:only-of-type {\n",
       "        vertical-align: middle;\n",
       "    }\n",
       "\n",
       "    .dataframe tbody tr th {\n",
       "        vertical-align: top;\n",
       "    }\n",
       "\n",
       "    .dataframe thead th {\n",
       "        text-align: right;\n",
       "    }\n",
       "</style>\n",
       "<table border=\"1\" class=\"dataframe\">\n",
       "  <thead>\n",
       "    <tr style=\"text-align: right;\">\n",
       "      <th></th>\n",
       "      <th>color</th>\n",
       "      <th>size</th>\n",
       "      <th>int_gone_bad</th>\n",
       "      <th>int_size</th>\n",
       "    </tr>\n",
       "  </thead>\n",
       "  <tbody>\n",
       "    <tr>\n",
       "      <th>0</th>\n",
       "      <td>Red</td>\n",
       "      <td>Big</td>\n",
       "      <td>1.0</td>\n",
       "      <td>7.0</td>\n",
       "    </tr>\n",
       "    <tr>\n",
       "      <th>1</th>\n",
       "      <td>Green</td>\n",
       "      <td>Big</td>\n",
       "      <td>0.0</td>\n",
       "      <td>8.0</td>\n",
       "    </tr>\n",
       "    <tr>\n",
       "      <th>2</th>\n",
       "      <td>Green</td>\n",
       "      <td>Small</td>\n",
       "      <td>NaN</td>\n",
       "      <td>2.0</td>\n",
       "    </tr>\n",
       "    <tr>\n",
       "      <th>3</th>\n",
       "      <td>Green</td>\n",
       "      <td>Medium</td>\n",
       "      <td>0.0</td>\n",
       "      <td>5.0</td>\n",
       "    </tr>\n",
       "    <tr>\n",
       "      <th>4</th>\n",
       "      <td>Red</td>\n",
       "      <td>NaN</td>\n",
       "      <td>0.0</td>\n",
       "      <td>4.0</td>\n",
       "    </tr>\n",
       "    <tr>\n",
       "      <th>5</th>\n",
       "      <td>Green</td>\n",
       "      <td>Small</td>\n",
       "      <td>0.0</td>\n",
       "      <td>NaN</td>\n",
       "    </tr>\n",
       "  </tbody>\n",
       "</table>\n",
       "</div>"
      ],
      "text/plain": [
       "   color    size  int_gone_bad  int_size\n",
       "0    Red     Big           1.0       7.0\n",
       "1  Green     Big           0.0       8.0\n",
       "2  Green   Small           NaN       2.0\n",
       "3  Green  Medium           0.0       5.0\n",
       "4    Red     NaN           0.0       4.0\n",
       "5  Green   Small           0.0       NaN"
      ]
     },
     "execution_count": 2,
     "metadata": {},
     "output_type": "execute_result"
    }
   ],
   "source": [
    "X,y=m.getXy()\n",
    "X"
   ]
  },
  {
   "cell_type": "code",
   "execution_count": 3,
   "metadata": {},
   "outputs": [
    {
     "data": {
      "text/plain": [
       "(['int_gone_bad', 'int_size'], ['color', 'size'])"
      ]
     },
     "execution_count": 3,
     "metadata": {},
     "output_type": "execute_result"
    }
   ],
   "source": [
    "numColsX,catColsX=m.getNumColsX(),m.getCatColsX()\n",
    "numColsX,catColsX"
   ]
  },
  {
   "cell_type": "code",
   "execution_count": 4,
   "metadata": {},
   "outputs": [
    {
     "data": {
      "text/plain": [
       "(   color    size  int_gone_bad  int_size\n",
       " 0    Red     Big           1.0       7.0\n",
       " 5  Green   Small           0.0       NaN\n",
       " 2  Green   Small           NaN       2.0\n",
       " 3  Green  Medium           0.0       5.0,\n",
       " 0    Sweet\n",
       " 5     Sour\n",
       " 2    Sweet\n",
       " 3     Sour\n",
       " Name: taste, dtype: object)"
      ]
     },
     "execution_count": 4,
     "metadata": {},
     "output_type": "execute_result"
    }
   ],
   "source": [
    "Xtrain,Xtest,ytrain,ytest=m.getTrainTest()\n",
    "Xtrain,ytrain"
   ]
  },
  {
   "cell_type": "code",
   "execution_count": 5,
   "metadata": {},
   "outputs": [
    {
     "name": "stdout",
     "output_type": "stream",
     "text": [
      "\n",
      "        Transform Categorical Features Imputer Strategy: mean\n",
      "        \n",
      "\n",
      "        Transform Numerical Features Imputer Strategy: most_frequent\n",
      "        Transform Encoder: OrdinalEncoder\n",
      "        Encoder Arguments: {}   \n",
      "        \n",
      "\n",
      "        Transform Categorical Features Imputer Strategy: mean\n",
      "        \n",
      "\n",
      "        Transform Numerical Features Imputer Strategy: most_frequent\n",
      "        Transform Encoder: OrdinalEncoder\n",
      "        Encoder Arguments: {}   \n",
      "        \n",
      "!!!WARNING: ALL train_test_split data WILL BE OVERWRITTEN BY NEW VALUE BECAUSE y is encoded!!!\n",
      "Transformed y:\n",
      " 0    Sweet\n",
      "1      NaN\n",
      "2    Sweet\n",
      "3     Sour\n",
      "4    Sweet\n",
      "5     Sour\n",
      "Name: taste, dtype: object\n"
     ]
    },
    {
     "ename": "ValueError",
     "evalue": "Found input variables with inconsistent numbers of samples: [6, 1]",
     "output_type": "error",
     "traceback": [
      "\u001b[1;31m---------------------------------------------------------------------------\u001b[0m",
      "\u001b[1;31mValueError\u001b[0m                                Traceback (most recent call last)",
      "\u001b[1;32mc:\\Users\\Fynn\\OneDrive\\_Docs\\CODING\\GitHub\\Github_CODING\\ML\\my_ml_models\\test.ipynb 单元格 5\u001b[0m line \u001b[0;36m3\n\u001b[0;32m      <a href='vscode-notebook-cell:/c%3A/Users/Fynn/OneDrive/_Docs/CODING/GitHub/Github_CODING/ML/my_ml_models/test.ipynb#W3sZmlsZQ%3D%3D?line=0'>1</a>\u001b[0m nct,cct\u001b[39m=\u001b[39mm\u001b[39m.\u001b[39mtransformNumCols(),m\u001b[39m.\u001b[39mtransformCatCols()\n\u001b[0;32m      <a href='vscode-notebook-cell:/c%3A/Users/Fynn/OneDrive/_Docs/CODING/GitHub/Github_CODING/ML/my_ml_models/test.ipynb#W3sZmlsZQ%3D%3D?line=1'>2</a>\u001b[0m preprocessorX\u001b[39m=\u001b[39mm\u001b[39m.\u001b[39mpreprocessX(numColTransformer\u001b[39m=\u001b[39mnct,catColTransformer\u001b[39m=\u001b[39mcct)\n\u001b[1;32m----> <a href='vscode-notebook-cell:/c%3A/Users/Fynn/OneDrive/_Docs/CODING/GitHub/Github_CODING/ML/my_ml_models/test.ipynb#W3sZmlsZQ%3D%3D?line=2'>3</a>\u001b[0m ap\u001b[39m=\u001b[39mm\u001b[39m.\u001b[39;49mautoPipeline(preprocess_y\u001b[39m=\u001b[39;49m\u001b[39mTrue\u001b[39;49;00m)\n",
      "File \u001b[1;32mc:\\Users\\Fynn\\OneDrive\\_Docs\\CODING\\GitHub\\Github_CODING\\ML\\my_ml_models\\fynns_tool_model_v1.py:598\u001b[0m, in \u001b[0;36mRegressionModel.autoPipeline\u001b[1;34m(self, transformNumStrategy, transformCatColImputeStrategy, preprocess_y)\u001b[0m\n\u001b[0;32m    596\u001b[0m transformedy\u001b[39m.\u001b[39mindex,transformedy\u001b[39m.\u001b[39mcolumns\u001b[39m=\u001b[39my\u001b[39m.\u001b[39mindex,[y\u001b[39m.\u001b[39mname]\n\u001b[0;32m    597\u001b[0m \u001b[39m# transformedy # dataframe\u001b[39;00m\n\u001b[1;32m--> 598\u001b[0m \u001b[39mself\u001b[39;49m\u001b[39m.\u001b[39;49minit(X\u001b[39m=\u001b[39;49mX,y\u001b[39m=\u001b[39;49mtransformedy\u001b[39m.\u001b[39;49mT[\u001b[39m0\u001b[39;49m]) \u001b[39m# here we gets y back to series!!!!!!!!!!!!\u001b[39;00m\n\u001b[0;32m    599\u001b[0m \u001b[39mprint\u001b[39m(\u001b[39m\"\u001b[39m\u001b[39m!!!WARNING: THE init arguments were default used, didn\u001b[39m\u001b[39m'\u001b[39m\u001b[39mt bring per argument by in this function\u001b[39m\u001b[39m\"\u001b[39m)\n\u001b[0;32m    600\u001b[0m \u001b[39mprint\u001b[39m(\u001b[39m\"\u001b[39m\u001b[39mCould bring in initArgs dict argument, to bring args into These init\u001b[39m\u001b[39m\"\u001b[39m)\n",
      "File \u001b[1;32mc:\\Users\\Fynn\\OneDrive\\_Docs\\CODING\\GitHub\\Github_CODING\\ML\\my_ml_models\\fynns_tool_model_v1.py:105\u001b[0m, in \u001b[0;36mRegressionModel.init\u001b[1;34m(self, X, y, model, encoder, train_size, test_size, train_test_split_random_state, scoreIt, modelArgs, encoderArgs)\u001b[0m\n\u001b[0;32m    103\u001b[0m \u001b[39mself\u001b[39m\u001b[39m.\u001b[39m_df \u001b[39m=\u001b[39m dfcopy\n\u001b[0;32m    104\u001b[0m \u001b[39m# set train test split data\u001b[39;00m\n\u001b[1;32m--> 105\u001b[0m \u001b[39mself\u001b[39m\u001b[39m.\u001b[39m_Xtrain, \u001b[39mself\u001b[39m\u001b[39m.\u001b[39m_Xtest, \u001b[39mself\u001b[39m\u001b[39m.\u001b[39m_ytrain, \u001b[39mself\u001b[39m\u001b[39m.\u001b[39m_ytest \u001b[39m=\u001b[39m train_test_split(\n\u001b[0;32m    106\u001b[0m     X, y, train_size\u001b[39m=\u001b[39;49mtrain_size, test_size\u001b[39m=\u001b[39;49mtest_size, random_state\u001b[39m=\u001b[39;49mtrain_test_split_random_state)\n\u001b[0;32m    108\u001b[0m \u001b[39mif\u001b[39;00m model \u001b[39m==\u001b[39m \u001b[39mNone\u001b[39;00m:  \u001b[39m# User hasn't given any values to `model`\u001b[39;00m\n\u001b[0;32m    109\u001b[0m     \u001b[39mprint\u001b[39m(\n\u001b[0;32m    110\u001b[0m         \u001b[39m\"\u001b[39m\u001b[39mModel set to `RandomForestRegressor` since no input for argument `model`.\u001b[39m\u001b[39m\"\u001b[39m)\n",
      "File \u001b[1;32m~\\AppData\\Local\\Packages\\PythonSoftwareFoundation.Python.3.11_qbz5n2kfra8p0\\LocalCache\\local-packages\\Python311\\site-packages\\sklearn\\utils\\_param_validation.py:211\u001b[0m, in \u001b[0;36mvalidate_params.<locals>.decorator.<locals>.wrapper\u001b[1;34m(*args, **kwargs)\u001b[0m\n\u001b[0;32m    205\u001b[0m \u001b[39mtry\u001b[39;00m:\n\u001b[0;32m    206\u001b[0m     \u001b[39mwith\u001b[39;00m config_context(\n\u001b[0;32m    207\u001b[0m         skip_parameter_validation\u001b[39m=\u001b[39m(\n\u001b[0;32m    208\u001b[0m             prefer_skip_nested_validation \u001b[39mor\u001b[39;00m global_skip_validation\n\u001b[0;32m    209\u001b[0m         )\n\u001b[0;32m    210\u001b[0m     ):\n\u001b[1;32m--> 211\u001b[0m         \u001b[39mreturn\u001b[39;00m func(\u001b[39m*\u001b[39;49margs, \u001b[39m*\u001b[39;49m\u001b[39m*\u001b[39;49mkwargs)\n\u001b[0;32m    212\u001b[0m \u001b[39mexcept\u001b[39;00m InvalidParameterError \u001b[39mas\u001b[39;00m e:\n\u001b[0;32m    213\u001b[0m     \u001b[39m# When the function is just a wrapper around an estimator, we allow\u001b[39;00m\n\u001b[0;32m    214\u001b[0m     \u001b[39m# the function to delegate validation to the estimator, but we replace\u001b[39;00m\n\u001b[0;32m    215\u001b[0m     \u001b[39m# the name of the estimator by the name of the function in the error\u001b[39;00m\n\u001b[0;32m    216\u001b[0m     \u001b[39m# message to avoid confusion.\u001b[39;00m\n\u001b[0;32m    217\u001b[0m     msg \u001b[39m=\u001b[39m re\u001b[39m.\u001b[39msub(\n\u001b[0;32m    218\u001b[0m         \u001b[39mr\u001b[39m\u001b[39m\"\u001b[39m\u001b[39mparameter of \u001b[39m\u001b[39m\\\u001b[39m\u001b[39mw+ must be\u001b[39m\u001b[39m\"\u001b[39m,\n\u001b[0;32m    219\u001b[0m         \u001b[39mf\u001b[39m\u001b[39m\"\u001b[39m\u001b[39mparameter of \u001b[39m\u001b[39m{\u001b[39;00mfunc\u001b[39m.\u001b[39m\u001b[39m__qualname__\u001b[39m\u001b[39m}\u001b[39;00m\u001b[39m must be\u001b[39m\u001b[39m\"\u001b[39m,\n\u001b[0;32m    220\u001b[0m         \u001b[39mstr\u001b[39m(e),\n\u001b[0;32m    221\u001b[0m     )\n",
      "File \u001b[1;32m~\\AppData\\Local\\Packages\\PythonSoftwareFoundation.Python.3.11_qbz5n2kfra8p0\\LocalCache\\local-packages\\Python311\\site-packages\\sklearn\\model_selection\\_split.py:2614\u001b[0m, in \u001b[0;36mtrain_test_split\u001b[1;34m(test_size, train_size, random_state, shuffle, stratify, *arrays)\u001b[0m\n\u001b[0;32m   2611\u001b[0m \u001b[39mif\u001b[39;00m n_arrays \u001b[39m==\u001b[39m \u001b[39m0\u001b[39m:\n\u001b[0;32m   2612\u001b[0m     \u001b[39mraise\u001b[39;00m \u001b[39mValueError\u001b[39;00m(\u001b[39m\"\u001b[39m\u001b[39mAt least one array required as input\u001b[39m\u001b[39m\"\u001b[39m)\n\u001b[1;32m-> 2614\u001b[0m arrays \u001b[39m=\u001b[39m indexable(\u001b[39m*\u001b[39;49marrays)\n\u001b[0;32m   2616\u001b[0m n_samples \u001b[39m=\u001b[39m _num_samples(arrays[\u001b[39m0\u001b[39m])\n\u001b[0;32m   2617\u001b[0m n_train, n_test \u001b[39m=\u001b[39m _validate_shuffle_split(\n\u001b[0;32m   2618\u001b[0m     n_samples, test_size, train_size, default_test_size\u001b[39m=\u001b[39m\u001b[39m0.25\u001b[39m\n\u001b[0;32m   2619\u001b[0m )\n",
      "File \u001b[1;32m~\\AppData\\Local\\Packages\\PythonSoftwareFoundation.Python.3.11_qbz5n2kfra8p0\\LocalCache\\local-packages\\Python311\\site-packages\\sklearn\\utils\\validation.py:455\u001b[0m, in \u001b[0;36mindexable\u001b[1;34m(*iterables)\u001b[0m\n\u001b[0;32m    436\u001b[0m \u001b[39m\u001b[39m\u001b[39m\"\"\"Make arrays indexable for cross-validation.\u001b[39;00m\n\u001b[0;32m    437\u001b[0m \n\u001b[0;32m    438\u001b[0m \u001b[39mChecks consistent length, passes through None, and ensures that everything\u001b[39;00m\n\u001b[1;32m   (...)\u001b[0m\n\u001b[0;32m    451\u001b[0m \u001b[39m    sparse matrix, or dataframe) or `None`.\u001b[39;00m\n\u001b[0;32m    452\u001b[0m \u001b[39m\"\"\"\u001b[39;00m\n\u001b[0;32m    454\u001b[0m result \u001b[39m=\u001b[39m [_make_indexable(X) \u001b[39mfor\u001b[39;00m X \u001b[39min\u001b[39;00m iterables]\n\u001b[1;32m--> 455\u001b[0m check_consistent_length(\u001b[39m*\u001b[39;49mresult)\n\u001b[0;32m    456\u001b[0m \u001b[39mreturn\u001b[39;00m result\n",
      "File \u001b[1;32m~\\AppData\\Local\\Packages\\PythonSoftwareFoundation.Python.3.11_qbz5n2kfra8p0\\LocalCache\\local-packages\\Python311\\site-packages\\sklearn\\utils\\validation.py:409\u001b[0m, in \u001b[0;36mcheck_consistent_length\u001b[1;34m(*arrays)\u001b[0m\n\u001b[0;32m    407\u001b[0m uniques \u001b[39m=\u001b[39m np\u001b[39m.\u001b[39munique(lengths)\n\u001b[0;32m    408\u001b[0m \u001b[39mif\u001b[39;00m \u001b[39mlen\u001b[39m(uniques) \u001b[39m>\u001b[39m \u001b[39m1\u001b[39m:\n\u001b[1;32m--> 409\u001b[0m     \u001b[39mraise\u001b[39;00m \u001b[39mValueError\u001b[39;00m(\n\u001b[0;32m    410\u001b[0m         \u001b[39m\"\u001b[39m\u001b[39mFound input variables with inconsistent numbers of samples: \u001b[39m\u001b[39m%r\u001b[39;00m\u001b[39m\"\u001b[39m\n\u001b[0;32m    411\u001b[0m         \u001b[39m%\u001b[39m [\u001b[39mint\u001b[39m(l) \u001b[39mfor\u001b[39;00m l \u001b[39min\u001b[39;00m lengths]\n\u001b[0;32m    412\u001b[0m     )\n",
      "\u001b[1;31mValueError\u001b[0m: Found input variables with inconsistent numbers of samples: [6, 1]"
     ]
    }
   ],
   "source": [
    "nct,cct=m.transformNumCols(),m.transformCatCols()\n",
    "preprocessorX=m.preprocessX(numColTransformer=nct,catColTransformer=cct)\n",
    "ap=m.autoPipeline(preprocess_y=True)"
   ]
  },
  {
   "cell_type": "code",
   "execution_count": null,
   "metadata": {},
   "outputs": [],
   "source": []
  }
 ],
 "metadata": {
  "kernelspec": {
   "display_name": "Python 3",
   "language": "python",
   "name": "python3"
  },
  "language_info": {
   "codemirror_mode": {
    "name": "ipython",
    "version": 3
   },
   "file_extension": ".py",
   "mimetype": "text/x-python",
   "name": "python",
   "nbconvert_exporter": "python",
   "pygments_lexer": "ipython3",
   "version": "3.11.7"
  }
 },
 "nbformat": 4,
 "nbformat_minor": 2
}
